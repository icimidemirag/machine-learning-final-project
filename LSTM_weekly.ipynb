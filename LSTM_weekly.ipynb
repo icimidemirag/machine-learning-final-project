{
  "cells": [
    {
      "cell_type": "markdown",
      "metadata": {
        "id": "s8JlSFPI3RLc"
      },
      "source": [
        "## Import Libraries"
      ]
    },
    {
      "cell_type": "code",
      "execution_count": null,
      "metadata": {
        "id": "wZYdELUn3RLc"
      },
      "outputs": [],
      "source": [
        "from tensorflow import keras\n",
        "from sklearn.preprocessing import StandardScaler\n",
        "import numpy as np\n",
        "import tensorflow as tf\n",
        "import pandas as pd\n",
        "import plotly.graph_objects as go\n",
        "import plotly.express as px\n",
        "import matplotlib.pyplot as plt\n",
        "import seaborn as sns\n",
        "from tensorflow.keras.models import Sequential\n",
        "from tensorflow.keras.layers import Dense, LSTM, Dropout, RepeatVector, TimeDistributed\n",
        "\n",
        "import warnings\n",
        "warnings.filterwarnings( 'ignore')"
      ]
    },
    {
      "cell_type": "code",
      "execution_count": null,
      "metadata": {
        "id": "3A6aiI403RLf"
      },
      "outputs": [],
      "source": [
        "RANDOM_SEED = 42\n",
        "\n",
        "np.random.seed(RANDOM_SEED)\n",
        "tf.random.set_seed(RANDOM_SEED)"
      ]
    },
    {
      "cell_type": "markdown",
      "metadata": {
        "id": "7u31R3f_3RLd"
      },
      "source": [
        "## Load Dataset\n",
        "\n",
        "We used the [BIST 100](https://finance.yahoo.com/quote/XU100.IS/history?p=XU100.IS) dataset."
      ]
    },
    {
      "cell_type": "code",
      "execution_count": null,
      "metadata": {
        "id": "9ICrQkEL3RLd"
      },
      "outputs": [],
      "source": [
        "df = pd.read_csv('XU100.IS2.csv')"
      ]
    },
    {
      "cell_type": "markdown",
      "source": [
        "We will correct some errors in the database. We think that the reason for this error is the removal of zeros from the money."
      ],
      "metadata": {
        "id": "xD92_YWNrtqn"
      }
    },
    {
      "cell_type": "code",
      "source": [
        "# Drop rows with missing values (NaN)\n",
        "df = df.dropna()\n",
        "\n",
        "# Normalize the columns values up to index 1203 by dividing them by 100\n",
        "df.loc[:1203, 'Open'] = df.loc[:1203, 'Open'] / 100\n",
        "df.loc[:1203, 'High'] = df.loc[:1203, 'High'] / 100\n",
        "df.loc[:1203, 'Low'] = df.loc[:1203, 'Low'] / 100\n",
        "df.loc[:1203, 'Close'] = df.loc[:1203, 'Close'] / 100\n",
        "df.loc[:1203, 'Adj Close'] = df.loc[:1203, 'Adj Close'] / 100\n",
        "\n",
        "df = df.loc[df['Date'] < '2020-12-31']"
      ],
      "metadata": {
        "id": "Yp9RRZlA36-X"
      },
      "execution_count": null,
      "outputs": []
    },
    {
      "cell_type": "code",
      "execution_count": null,
      "metadata": {
        "colab": {
          "base_uri": "https://localhost:8080/",
          "height": 423
        },
        "id": "7-nD_iRN3RLd",
        "outputId": "6058559e-fe3f-4367-f8ea-e46bb5f7f2df"
      },
      "outputs": [
        {
          "output_type": "execute_result",
          "data": {
            "text/plain": [
              "            Date         Open         High          Low        Close  \\\n",
              "0     1997-06-30    18.570000    19.360000    18.260000    19.180000   \n",
              "1     1997-07-07    19.180000    20.270000    18.940000    20.270000   \n",
              "2     1997-07-14    20.270000    20.600000    19.720000    20.100000   \n",
              "3     1997-07-21    20.100000    20.180000    18.740000    18.890000   \n",
              "4     1997-07-28    18.890000    19.870000    18.330000    19.730000   \n",
              "...          ...          ...          ...          ...          ...   \n",
              "1222  2020-11-30  1314.400024  1339.000000  1283.599976  1330.900024   \n",
              "1223  2020-12-07  1330.000000  1371.000000  1326.099976  1370.699951   \n",
              "1224  2020-12-14  1378.199951  1410.300049  1378.199951  1408.300049   \n",
              "1225  2020-12-21  1401.699951  1432.300049  1368.599976  1426.000000   \n",
              "1226  2020-12-28  1431.699951  1484.400024  1431.699951  1476.699951   \n",
              "\n",
              "        Adj Close        Volume  \n",
              "0       19.180000  1.236020e+07  \n",
              "1       20.270000  1.664630e+07  \n",
              "2       20.100000  1.759660e+07  \n",
              "3       18.890000  1.332740e+07  \n",
              "4       19.730000  1.317200e+07  \n",
              "...           ...           ...  \n",
              "1222  1330.900024  2.533858e+10  \n",
              "1223  1370.699951  2.674383e+10  \n",
              "1224  1408.300049  2.384162e+10  \n",
              "1225  1426.000000  1.990367e+10  \n",
              "1226  1476.699951  1.401380e+10  \n",
              "\n",
              "[1218 rows x 7 columns]"
            ],
            "text/html": [
              "\n",
              "  <div id=\"df-463c38ef-62f5-4a0a-b92a-38e7655cddfb\" class=\"colab-df-container\">\n",
              "    <div>\n",
              "<style scoped>\n",
              "    .dataframe tbody tr th:only-of-type {\n",
              "        vertical-align: middle;\n",
              "    }\n",
              "\n",
              "    .dataframe tbody tr th {\n",
              "        vertical-align: top;\n",
              "    }\n",
              "\n",
              "    .dataframe thead th {\n",
              "        text-align: right;\n",
              "    }\n",
              "</style>\n",
              "<table border=\"1\" class=\"dataframe\">\n",
              "  <thead>\n",
              "    <tr style=\"text-align: right;\">\n",
              "      <th></th>\n",
              "      <th>Date</th>\n",
              "      <th>Open</th>\n",
              "      <th>High</th>\n",
              "      <th>Low</th>\n",
              "      <th>Close</th>\n",
              "      <th>Adj Close</th>\n",
              "      <th>Volume</th>\n",
              "    </tr>\n",
              "  </thead>\n",
              "  <tbody>\n",
              "    <tr>\n",
              "      <th>0</th>\n",
              "      <td>1997-06-30</td>\n",
              "      <td>18.570000</td>\n",
              "      <td>19.360000</td>\n",
              "      <td>18.260000</td>\n",
              "      <td>19.180000</td>\n",
              "      <td>19.180000</td>\n",
              "      <td>1.236020e+07</td>\n",
              "    </tr>\n",
              "    <tr>\n",
              "      <th>1</th>\n",
              "      <td>1997-07-07</td>\n",
              "      <td>19.180000</td>\n",
              "      <td>20.270000</td>\n",
              "      <td>18.940000</td>\n",
              "      <td>20.270000</td>\n",
              "      <td>20.270000</td>\n",
              "      <td>1.664630e+07</td>\n",
              "    </tr>\n",
              "    <tr>\n",
              "      <th>2</th>\n",
              "      <td>1997-07-14</td>\n",
              "      <td>20.270000</td>\n",
              "      <td>20.600000</td>\n",
              "      <td>19.720000</td>\n",
              "      <td>20.100000</td>\n",
              "      <td>20.100000</td>\n",
              "      <td>1.759660e+07</td>\n",
              "    </tr>\n",
              "    <tr>\n",
              "      <th>3</th>\n",
              "      <td>1997-07-21</td>\n",
              "      <td>20.100000</td>\n",
              "      <td>20.180000</td>\n",
              "      <td>18.740000</td>\n",
              "      <td>18.890000</td>\n",
              "      <td>18.890000</td>\n",
              "      <td>1.332740e+07</td>\n",
              "    </tr>\n",
              "    <tr>\n",
              "      <th>4</th>\n",
              "      <td>1997-07-28</td>\n",
              "      <td>18.890000</td>\n",
              "      <td>19.870000</td>\n",
              "      <td>18.330000</td>\n",
              "      <td>19.730000</td>\n",
              "      <td>19.730000</td>\n",
              "      <td>1.317200e+07</td>\n",
              "    </tr>\n",
              "    <tr>\n",
              "      <th>...</th>\n",
              "      <td>...</td>\n",
              "      <td>...</td>\n",
              "      <td>...</td>\n",
              "      <td>...</td>\n",
              "      <td>...</td>\n",
              "      <td>...</td>\n",
              "      <td>...</td>\n",
              "    </tr>\n",
              "    <tr>\n",
              "      <th>1222</th>\n",
              "      <td>2020-11-30</td>\n",
              "      <td>1314.400024</td>\n",
              "      <td>1339.000000</td>\n",
              "      <td>1283.599976</td>\n",
              "      <td>1330.900024</td>\n",
              "      <td>1330.900024</td>\n",
              "      <td>2.533858e+10</td>\n",
              "    </tr>\n",
              "    <tr>\n",
              "      <th>1223</th>\n",
              "      <td>2020-12-07</td>\n",
              "      <td>1330.000000</td>\n",
              "      <td>1371.000000</td>\n",
              "      <td>1326.099976</td>\n",
              "      <td>1370.699951</td>\n",
              "      <td>1370.699951</td>\n",
              "      <td>2.674383e+10</td>\n",
              "    </tr>\n",
              "    <tr>\n",
              "      <th>1224</th>\n",
              "      <td>2020-12-14</td>\n",
              "      <td>1378.199951</td>\n",
              "      <td>1410.300049</td>\n",
              "      <td>1378.199951</td>\n",
              "      <td>1408.300049</td>\n",
              "      <td>1408.300049</td>\n",
              "      <td>2.384162e+10</td>\n",
              "    </tr>\n",
              "    <tr>\n",
              "      <th>1225</th>\n",
              "      <td>2020-12-21</td>\n",
              "      <td>1401.699951</td>\n",
              "      <td>1432.300049</td>\n",
              "      <td>1368.599976</td>\n",
              "      <td>1426.000000</td>\n",
              "      <td>1426.000000</td>\n",
              "      <td>1.990367e+10</td>\n",
              "    </tr>\n",
              "    <tr>\n",
              "      <th>1226</th>\n",
              "      <td>2020-12-28</td>\n",
              "      <td>1431.699951</td>\n",
              "      <td>1484.400024</td>\n",
              "      <td>1431.699951</td>\n",
              "      <td>1476.699951</td>\n",
              "      <td>1476.699951</td>\n",
              "      <td>1.401380e+10</td>\n",
              "    </tr>\n",
              "  </tbody>\n",
              "</table>\n",
              "<p>1218 rows × 7 columns</p>\n",
              "</div>\n",
              "    <div class=\"colab-df-buttons\">\n",
              "\n",
              "  <div class=\"colab-df-container\">\n",
              "    <button class=\"colab-df-convert\" onclick=\"convertToInteractive('df-463c38ef-62f5-4a0a-b92a-38e7655cddfb')\"\n",
              "            title=\"Convert this dataframe to an interactive table.\"\n",
              "            style=\"display:none;\">\n",
              "\n",
              "  <svg xmlns=\"http://www.w3.org/2000/svg\" height=\"24px\" viewBox=\"0 -960 960 960\">\n",
              "    <path d=\"M120-120v-720h720v720H120Zm60-500h600v-160H180v160Zm220 220h160v-160H400v160Zm0 220h160v-160H400v160ZM180-400h160v-160H180v160Zm440 0h160v-160H620v160ZM180-180h160v-160H180v160Zm440 0h160v-160H620v160Z\"/>\n",
              "  </svg>\n",
              "    </button>\n",
              "\n",
              "  <style>\n",
              "    .colab-df-container {\n",
              "      display:flex;\n",
              "      gap: 12px;\n",
              "    }\n",
              "\n",
              "    .colab-df-convert {\n",
              "      background-color: #E8F0FE;\n",
              "      border: none;\n",
              "      border-radius: 50%;\n",
              "      cursor: pointer;\n",
              "      display: none;\n",
              "      fill: #1967D2;\n",
              "      height: 32px;\n",
              "      padding: 0 0 0 0;\n",
              "      width: 32px;\n",
              "    }\n",
              "\n",
              "    .colab-df-convert:hover {\n",
              "      background-color: #E2EBFA;\n",
              "      box-shadow: 0px 1px 2px rgba(60, 64, 67, 0.3), 0px 1px 3px 1px rgba(60, 64, 67, 0.15);\n",
              "      fill: #174EA6;\n",
              "    }\n",
              "\n",
              "    .colab-df-buttons div {\n",
              "      margin-bottom: 4px;\n",
              "    }\n",
              "\n",
              "    [theme=dark] .colab-df-convert {\n",
              "      background-color: #3B4455;\n",
              "      fill: #D2E3FC;\n",
              "    }\n",
              "\n",
              "    [theme=dark] .colab-df-convert:hover {\n",
              "      background-color: #434B5C;\n",
              "      box-shadow: 0px 1px 3px 1px rgba(0, 0, 0, 0.15);\n",
              "      filter: drop-shadow(0px 1px 2px rgba(0, 0, 0, 0.3));\n",
              "      fill: #FFFFFF;\n",
              "    }\n",
              "  </style>\n",
              "\n",
              "    <script>\n",
              "      const buttonEl =\n",
              "        document.querySelector('#df-463c38ef-62f5-4a0a-b92a-38e7655cddfb button.colab-df-convert');\n",
              "      buttonEl.style.display =\n",
              "        google.colab.kernel.accessAllowed ? 'block' : 'none';\n",
              "\n",
              "      async function convertToInteractive(key) {\n",
              "        const element = document.querySelector('#df-463c38ef-62f5-4a0a-b92a-38e7655cddfb');\n",
              "        const dataTable =\n",
              "          await google.colab.kernel.invokeFunction('convertToInteractive',\n",
              "                                                    [key], {});\n",
              "        if (!dataTable) return;\n",
              "\n",
              "        const docLinkHtml = 'Like what you see? Visit the ' +\n",
              "          '<a target=\"_blank\" href=https://colab.research.google.com/notebooks/data_table.ipynb>data table notebook</a>'\n",
              "          + ' to learn more about interactive tables.';\n",
              "        element.innerHTML = '';\n",
              "        dataTable['output_type'] = 'display_data';\n",
              "        await google.colab.output.renderOutput(dataTable, element);\n",
              "        const docLink = document.createElement('div');\n",
              "        docLink.innerHTML = docLinkHtml;\n",
              "        element.appendChild(docLink);\n",
              "      }\n",
              "    </script>\n",
              "  </div>\n",
              "\n",
              "\n",
              "<div id=\"df-2eda876a-2c00-4cd4-bae5-e45dedb6c629\">\n",
              "  <button class=\"colab-df-quickchart\" onclick=\"quickchart('df-2eda876a-2c00-4cd4-bae5-e45dedb6c629')\"\n",
              "            title=\"Suggest charts\"\n",
              "            style=\"display:none;\">\n",
              "\n",
              "<svg xmlns=\"http://www.w3.org/2000/svg\" height=\"24px\"viewBox=\"0 0 24 24\"\n",
              "     width=\"24px\">\n",
              "    <g>\n",
              "        <path d=\"M19 3H5c-1.1 0-2 .9-2 2v14c0 1.1.9 2 2 2h14c1.1 0 2-.9 2-2V5c0-1.1-.9-2-2-2zM9 17H7v-7h2v7zm4 0h-2V7h2v10zm4 0h-2v-4h2v4z\"/>\n",
              "    </g>\n",
              "</svg>\n",
              "  </button>\n",
              "\n",
              "<style>\n",
              "  .colab-df-quickchart {\n",
              "      --bg-color: #E8F0FE;\n",
              "      --fill-color: #1967D2;\n",
              "      --hover-bg-color: #E2EBFA;\n",
              "      --hover-fill-color: #174EA6;\n",
              "      --disabled-fill-color: #AAA;\n",
              "      --disabled-bg-color: #DDD;\n",
              "  }\n",
              "\n",
              "  [theme=dark] .colab-df-quickchart {\n",
              "      --bg-color: #3B4455;\n",
              "      --fill-color: #D2E3FC;\n",
              "      --hover-bg-color: #434B5C;\n",
              "      --hover-fill-color: #FFFFFF;\n",
              "      --disabled-bg-color: #3B4455;\n",
              "      --disabled-fill-color: #666;\n",
              "  }\n",
              "\n",
              "  .colab-df-quickchart {\n",
              "    background-color: var(--bg-color);\n",
              "    border: none;\n",
              "    border-radius: 50%;\n",
              "    cursor: pointer;\n",
              "    display: none;\n",
              "    fill: var(--fill-color);\n",
              "    height: 32px;\n",
              "    padding: 0;\n",
              "    width: 32px;\n",
              "  }\n",
              "\n",
              "  .colab-df-quickchart:hover {\n",
              "    background-color: var(--hover-bg-color);\n",
              "    box-shadow: 0 1px 2px rgba(60, 64, 67, 0.3), 0 1px 3px 1px rgba(60, 64, 67, 0.15);\n",
              "    fill: var(--button-hover-fill-color);\n",
              "  }\n",
              "\n",
              "  .colab-df-quickchart-complete:disabled,\n",
              "  .colab-df-quickchart-complete:disabled:hover {\n",
              "    background-color: var(--disabled-bg-color);\n",
              "    fill: var(--disabled-fill-color);\n",
              "    box-shadow: none;\n",
              "  }\n",
              "\n",
              "  .colab-df-spinner {\n",
              "    border: 2px solid var(--fill-color);\n",
              "    border-color: transparent;\n",
              "    border-bottom-color: var(--fill-color);\n",
              "    animation:\n",
              "      spin 1s steps(1) infinite;\n",
              "  }\n",
              "\n",
              "  @keyframes spin {\n",
              "    0% {\n",
              "      border-color: transparent;\n",
              "      border-bottom-color: var(--fill-color);\n",
              "      border-left-color: var(--fill-color);\n",
              "    }\n",
              "    20% {\n",
              "      border-color: transparent;\n",
              "      border-left-color: var(--fill-color);\n",
              "      border-top-color: var(--fill-color);\n",
              "    }\n",
              "    30% {\n",
              "      border-color: transparent;\n",
              "      border-left-color: var(--fill-color);\n",
              "      border-top-color: var(--fill-color);\n",
              "      border-right-color: var(--fill-color);\n",
              "    }\n",
              "    40% {\n",
              "      border-color: transparent;\n",
              "      border-right-color: var(--fill-color);\n",
              "      border-top-color: var(--fill-color);\n",
              "    }\n",
              "    60% {\n",
              "      border-color: transparent;\n",
              "      border-right-color: var(--fill-color);\n",
              "    }\n",
              "    80% {\n",
              "      border-color: transparent;\n",
              "      border-right-color: var(--fill-color);\n",
              "      border-bottom-color: var(--fill-color);\n",
              "    }\n",
              "    90% {\n",
              "      border-color: transparent;\n",
              "      border-bottom-color: var(--fill-color);\n",
              "    }\n",
              "  }\n",
              "</style>\n",
              "\n",
              "  <script>\n",
              "    async function quickchart(key) {\n",
              "      const quickchartButtonEl =\n",
              "        document.querySelector('#' + key + ' button');\n",
              "      quickchartButtonEl.disabled = true;  // To prevent multiple clicks.\n",
              "      quickchartButtonEl.classList.add('colab-df-spinner');\n",
              "      try {\n",
              "        const charts = await google.colab.kernel.invokeFunction(\n",
              "            'suggestCharts', [key], {});\n",
              "      } catch (error) {\n",
              "        console.error('Error during call to suggestCharts:', error);\n",
              "      }\n",
              "      quickchartButtonEl.classList.remove('colab-df-spinner');\n",
              "      quickchartButtonEl.classList.add('colab-df-quickchart-complete');\n",
              "    }\n",
              "    (() => {\n",
              "      let quickchartButtonEl =\n",
              "        document.querySelector('#df-2eda876a-2c00-4cd4-bae5-e45dedb6c629 button');\n",
              "      quickchartButtonEl.style.display =\n",
              "        google.colab.kernel.accessAllowed ? 'block' : 'none';\n",
              "    })();\n",
              "  </script>\n",
              "</div>\n",
              "\n",
              "  <div id=\"id_c3d5909d-d4b8-4831-8682-132a353af182\">\n",
              "    <style>\n",
              "      .colab-df-generate {\n",
              "        background-color: #E8F0FE;\n",
              "        border: none;\n",
              "        border-radius: 50%;\n",
              "        cursor: pointer;\n",
              "        display: none;\n",
              "        fill: #1967D2;\n",
              "        height: 32px;\n",
              "        padding: 0 0 0 0;\n",
              "        width: 32px;\n",
              "      }\n",
              "\n",
              "      .colab-df-generate:hover {\n",
              "        background-color: #E2EBFA;\n",
              "        box-shadow: 0px 1px 2px rgba(60, 64, 67, 0.3), 0px 1px 3px 1px rgba(60, 64, 67, 0.15);\n",
              "        fill: #174EA6;\n",
              "      }\n",
              "\n",
              "      [theme=dark] .colab-df-generate {\n",
              "        background-color: #3B4455;\n",
              "        fill: #D2E3FC;\n",
              "      }\n",
              "\n",
              "      [theme=dark] .colab-df-generate:hover {\n",
              "        background-color: #434B5C;\n",
              "        box-shadow: 0px 1px 3px 1px rgba(0, 0, 0, 0.15);\n",
              "        filter: drop-shadow(0px 1px 2px rgba(0, 0, 0, 0.3));\n",
              "        fill: #FFFFFF;\n",
              "      }\n",
              "    </style>\n",
              "    <button class=\"colab-df-generate\" onclick=\"generateWithVariable('df')\"\n",
              "            title=\"Generate code using this dataframe.\"\n",
              "            style=\"display:none;\">\n",
              "\n",
              "  <svg xmlns=\"http://www.w3.org/2000/svg\" height=\"24px\"viewBox=\"0 0 24 24\"\n",
              "       width=\"24px\">\n",
              "    <path d=\"M7,19H8.4L18.45,9,17,7.55,7,17.6ZM5,21V16.75L18.45,3.32a2,2,0,0,1,2.83,0l1.4,1.43a1.91,1.91,0,0,1,.58,1.4,1.91,1.91,0,0,1-.58,1.4L9.25,21ZM18.45,9,17,7.55Zm-12,3A5.31,5.31,0,0,0,4.9,8.1,5.31,5.31,0,0,0,1,6.5,5.31,5.31,0,0,0,4.9,4.9,5.31,5.31,0,0,0,6.5,1,5.31,5.31,0,0,0,8.1,4.9,5.31,5.31,0,0,0,12,6.5,5.46,5.46,0,0,0,6.5,12Z\"/>\n",
              "  </svg>\n",
              "    </button>\n",
              "    <script>\n",
              "      (() => {\n",
              "      const buttonEl =\n",
              "        document.querySelector('#id_c3d5909d-d4b8-4831-8682-132a353af182 button.colab-df-generate');\n",
              "      buttonEl.style.display =\n",
              "        google.colab.kernel.accessAllowed ? 'block' : 'none';\n",
              "\n",
              "      buttonEl.onclick = () => {\n",
              "        google.colab.notebook.generateWithVariable('df');\n",
              "      }\n",
              "      })();\n",
              "    </script>\n",
              "  </div>\n",
              "\n",
              "    </div>\n",
              "  </div>\n"
            ]
          },
          "metadata": {},
          "execution_count": 5
        }
      ],
      "source": [
        "df"
      ]
    },
    {
      "cell_type": "code",
      "source": [
        "del df['Volume']\n",
        "sns.boxenplot(df)"
      ],
      "metadata": {
        "colab": {
          "base_uri": "https://localhost:8080/",
          "height": 442
        },
        "id": "I3zOkZSCD-4C",
        "outputId": "d3690ffb-5ee2-497e-9807-ca22ca8d82f5"
      },
      "execution_count": null,
      "outputs": [
        {
          "output_type": "execute_result",
          "data": {
            "text/plain": [
              "<Axes: >"
            ]
          },
          "metadata": {},
          "execution_count": 72
        },
        {
          "output_type": "display_data",
          "data": {
            "text/plain": [
              "<Figure size 640x480 with 1 Axes>"
            ],
            "image/png": "[encoded data removed]"
          },
          "metadata": {}
        }
      ]
    },
    {
      "cell_type": "code",
      "execution_count": null,
      "metadata": {
        "id": "acpPL9VG3RLe"
      },
      "outputs": [],
      "source": [
        "df = df[['Date', 'Close']]"
      ]
    },
    {
      "cell_type": "code",
      "execution_count": null,
      "metadata": {
        "colab": {
          "base_uri": "https://localhost:8080/"
        },
        "id": "iq7Lb6od3RLe",
        "outputId": "92d0897e-5ad7-4910-a5d5-93eab9587e6a"
      },
      "outputs": [
        {
          "output_type": "stream",
          "name": "stdout",
          "text": [
            "<class 'pandas.core.frame.DataFrame'>\n",
            "Int64Index: 1218 entries, 0 to 1226\n",
            "Data columns (total 2 columns):\n",
            " #   Column  Non-Null Count  Dtype  \n",
            "---  ------  --------------  -----  \n",
            " 0   Date    1218 non-null   object \n",
            " 1   Close   1218 non-null   float64\n",
            "dtypes: float64(1), object(1)\n",
            "memory usage: 28.5+ KB\n"
          ]
        }
      ],
      "source": [
        "df.info()"
      ]
    },
    {
      "cell_type": "code",
      "execution_count": null,
      "metadata": {
        "colab": {
          "base_uri": "https://localhost:8080/"
        },
        "id": "Mb4MJPeW3RLe",
        "outputId": "70c6db0f-5c7a-4b3b-a74d-b42126c2cd2e"
      },
      "outputs": [
        {
          "output_type": "execute_result",
          "data": {
            "text/plain": [
              "('1997-06-30', '2020-12-28')"
            ]
          },
          "metadata": {},
          "execution_count": 75
        }
      ],
      "source": [
        "df['Date'].min(), df['Date'].max()"
      ]
    },
    {
      "cell_type": "code",
      "source": [
        "pd.plotting.lag_plot(df['Close'])"
      ],
      "metadata": {
        "id": "BGuE0bxwKJzQ"
      },
      "execution_count": null,
      "outputs": []
    },
    {
      "cell_type": "markdown",
      "metadata": {
        "id": "e9M6PoLw3RLf"
      },
      "source": [
        "## Visualize the Data"
      ]
    },
    {
      "cell_type": "code",
      "execution_count": null,
      "metadata": {
        "colab": {
          "base_uri": "https://localhost:8080/",
          "height": 542
        },
        "id": "JjcrBjbg3RLf",
        "outputId": "3b7b7c8b-0c2b-4823-87eb-1ed980b32f1d"
      },
      "outputs": [
        {
          "output_type": "display_data",
          "data": {
            "text/html": [
              "<html>\n",
              "<head><meta charset=\"utf-8\" /></head>\n",
              "<body>\n",
              "    <div>            <script src=\"https://cdnjs.cloudflare.com/ajax/libs/mathjax/2.7.5/MathJax.js?config=TeX-AMS-MML_SVG\"></script><script type=\"text/javascript\">if (window.MathJax && window.MathJax.Hub && window.MathJax.Hub.Config) {window.MathJax.Hub.Config({SVG: {font: \"STIX-Web\"}});}</script>                <script type=\"text/javascript\">window.PlotlyConfig = {MathJaxConfig: 'local'};</script>\n",
              "        <script charset=\"utf-8\" src=\"https://cdn.plot.ly/plotly-2.24.1.min.js\"></script>                <div id=\"1f61bbd0-0a42-46d8-98a8-2c317f0cbf4a\" class=\"plotly-graph-div\" style=\"height:525px; width:100%;\"></div>            <script type=\"text/javascript\">                                    window.PLOTLYENV=window.PLOTLYENV || {};                                    if (document.getElementById(\"1f61bbd0-0a42-46d8-98a8-2c317f0cbf4a\")) {                    Plotly.newPlot(                        \"1f61bbd0-0a42-46d8-98a8-2c317f0cbf4a\",                        [{\"hovertemplate\":\"Date=%{x}\\u003cbr\\u003eClose=%{y}\\u003cextra\\u003e\\u003c\\u002fextra\\u003e\",\"legendgroup\":\"\",\"line\":{\"color\":\"#636efa\",\"dash\":\"solid\"},\"marker\":{\"symbol\":\"circle\"},\"mode\":\"lines\",\"name\":\"\",\"showlegend\":false,\"x\":[\"1997-06-30\",\"1997-07-07\",\"1997-07-14\",\"1997-07-21\",\"1997-07-28\",\"1997-08-04\",\"1997-08-11\",\"1997-08-18\",\"1997-08-25\",\"1997-09-01\",\"1997-09-08\",\"1997-09-15\",\"1997-09-22\",\"1997-09-29\",\"1997-10-06\",\"1997-10-13\",\"1997-10-20\",\"1997-10-27\",\"1997-11-03\",\"1997-11-10\",\"1997-11-17\",\"1997-11-24\",\"1997-12-01\",\"1997-12-08\",\"1997-12-15\",\"1997-12-22\",\"1997-12-29\",\"1998-01-05\",\"1998-01-12\",\"1998-01-19\",\"1998-01-26\",\"1998-02-02\",\"1998-02-09\",\"1998-02-16\",\"1998-02-23\",\"1998-03-02\",\"1998-03-09\",\"1998-03-16\",\"1998-03-23\",\"1998-03-30\",\"1998-04-13\",\"1998-04-20\",\"1998-04-27\",\"1998-05-04\",\"1998-05-11\",\"1998-05-18\",\"1998-05-25\",\"1998-06-01\",\"1998-06-08\",\"1998-06-15\",\"1998-06-22\",\"1998-06-29\",\"1998-07-06\",\"1998-07-13\",\"1998-07-20\",\"1998-07-27\",\"1998-08-03\",\"1998-08-10\",\"1998-08-17\",\"1998-08-24\",\"1998-08-31\",\"1998-09-07\",\"1998-09-14\",\"1998-09-21\",\"1998-09-28\",\"1998-10-05\",\"1998-10-12\",\"1998-10-19\",\"1998-10-26\",\"1998-11-02\",\"1998-11-09\",\"1998-11-16\",\"1998-11-23\",\"1998-11-30\",\"1998-12-07\",\"1998-12-14\",\"1998-12-21\",\"1998-12-28\",\"1999-01-04\",\"1999-01-11\",\"1999-01-25\",\"1999-02-01\",\"1999-02-08\",\"1999-02-15\",\"1999-02-22\",\"1999-03-01\",\"1999-03-08\",\"1999-03-15\",\"1999-03-22\",\"1999-04-05\",\"1999-04-12\",\"1999-04-19\",\"1999-04-26\",\"1999-05-03\",\"1999-05-10\",\"1999-05-17\",\"1999-05-24\",\"1999-05-31\",\"1999-06-07\",\"1999-06-14\",\"1999-06-21\",\"1999-06-28\",\"1999-07-05\",\"1999-07-12\",\"1999-07-19\",\"1999-07-26\",\"1999-08-02\",\"1999-08-09\",\"1999-08-16\",\"1999-08-23\",\"1999-08-30\",\"1999-09-06\",\"1999-09-13\",\"1999-09-20\",\"1999-09-27\",\"1999-10-04\",\"1999-10-11\",\"1999-10-18\",\"1999-10-25\",\"1999-11-01\",\"1999-11-08\",\"1999-11-15\",\"1999-11-22\",\"1999-11-29\",\"1999-12-06\",\"1999-12-13\",\"1999-12-20\",\"1999-12-27\",\"2000-01-03\",\"2000-01-10\",\"2000-01-17\",\"2000-01-24\",\"2000-01-31\",\"2000-02-07\",\"2000-02-14\",\"2000-02-21\",\"2000-02-28\",\"2000-03-06\",\"2000-03-20\",\"2000-03-27\",\"2000-04-03\",\"2000-04-10\",\"2000-04-17\",\"2000-04-24\",\"2000-05-01\",\"2000-05-08\",\"2000-05-15\",\"2000-05-22\",\"2000-05-29\",\"2000-06-05\",\"2000-06-12\",\"2000-06-19\",\"2000-06-26\",\"2000-07-03\",\"2000-07-10\",\"2000-07-17\",\"2000-07-24\",\"2000-07-31\",\"2000-08-07\",\"2000-08-14\",\"2000-08-21\",\"2000-08-28\",\"2000-09-04\",\"2000-09-11\",\"2000-09-18\",\"2000-09-25\",\"2000-10-02\",\"2000-10-09\",\"2000-10-16\",\"2000-10-23\",\"2000-10-30\",\"2000-11-06\",\"2000-11-13\",\"2000-11-20\",\"2000-11-27\",\"2000-12-04\",\"2000-12-11\",\"2000-12-18\",\"2001-01-01\",\"2001-01-08\",\"2001-01-15\",\"2001-01-22\",\"2001-01-29\",\"2001-02-05\",\"2001-02-12\",\"2001-02-19\",\"2001-02-26\",\"2001-03-12\",\"2001-03-19\",\"2001-03-26\",\"2001-04-02\",\"2001-04-09\",\"2001-04-16\",\"2001-04-23\",\"2001-04-30\",\"2001-05-07\",\"2001-05-14\",\"2001-05-21\",\"2001-05-28\",\"2001-06-04\",\"2001-06-11\",\"2001-06-18\",\"2001-06-25\",\"2001-07-02\",\"2001-07-09\",\"2001-07-16\",\"2001-07-23\",\"2001-07-30\",\"2001-08-06\",\"2001-08-13\",\"2001-08-20\",\"2001-08-27\",\"2001-09-03\",\"2001-09-10\",\"2001-09-17\",\"2001-09-24\",\"2001-10-01\",\"2001-10-08\",\"2001-10-15\",\"2001-10-22\",\"2001-10-29\",\"2001-11-05\",\"2001-11-12\",\"2001-11-19\",\"2001-11-26\",\"2001-12-03\",\"2001-12-10\",\"2001-12-17\",\"2001-12-24\",\"2001-12-31\",\"2002-01-07\",\"2002-01-14\",\"2002-01-21\",\"2002-01-28\",\"2002-02-04\",\"2002-02-11\",\"2002-02-18\",\"2002-02-25\",\"2002-03-04\",\"2002-03-11\",\"2002-03-18\",\"2002-03-25\",\"2002-04-01\",\"2002-04-08\",\"2002-04-15\",\"2002-04-22\",\"2002-04-29\",\"2002-05-06\",\"2002-05-13\",\"2002-05-20\",\"2002-05-27\",\"2002-06-03\",\"2002-06-10\",\"2002-06-17\",\"2002-06-24\",\"2002-07-01\",\"2002-07-08\",\"2002-07-15\",\"2002-07-22\",\"2002-07-29\",\"2002-08-05\",\"2002-08-12\",\"2002-08-19\",\"2002-08-26\",\"2002-09-02\",\"2002-09-09\",\"2002-09-16\",\"2002-09-23\",\"2002-09-30\",\"2002-10-07\",\"2002-10-14\",\"2002-10-21\",\"2002-10-28\",\"2002-11-04\",\"2002-11-11\",\"2002-11-18\",\"2002-11-25\",\"2002-12-02\",\"2002-12-09\",\"2002-12-16\",\"2002-12-23\",\"2002-12-30\",\"2003-01-06\",\"2003-01-13\",\"2003-01-20\",\"2003-01-27\",\"2003-02-03\",\"2003-02-17\",\"2003-02-24\",\"2003-03-03\",\"2003-03-10\",\"2003-03-17\",\"2003-03-24\",\"2003-03-31\",\"2003-04-07\",\"2003-04-14\",\"2003-04-21\",\"2003-04-28\",\"2003-05-05\",\"2003-05-12\",\"2003-05-19\",\"2003-05-26\",\"2003-06-02\",\"2003-06-09\",\"2003-06-16\",\"2003-06-23\",\"2003-06-30\",\"2003-07-07\",\"2003-07-14\",\"2003-07-21\",\"2003-07-28\",\"2003-08-04\",\"2003-08-11\",\"2003-08-18\",\"2003-08-25\",\"2003-09-01\",\"2003-09-08\",\"2003-09-15\",\"2003-09-22\",\"2003-09-29\",\"2003-10-06\",\"2003-10-13\",\"2003-10-20\",\"2003-10-27\",\"2003-11-03\",\"2003-11-10\",\"2003-11-17\",\"2003-12-01\",\"2003-12-08\",\"2003-12-15\",\"2003-12-22\",\"2003-12-29\",\"2004-01-05\",\"2004-01-12\",\"2004-01-19\",\"2004-01-26\",\"2004-02-02\",\"2004-02-09\",\"2004-02-16\",\"2004-02-23\",\"2004-03-01\",\"2004-03-08\",\"2004-03-15\",\"2004-03-22\",\"2004-03-29\",\"2004-04-05\",\"2004-04-12\",\"2004-04-19\",\"2004-04-26\",\"2004-05-03\",\"2004-05-10\",\"2004-05-17\",\"2004-05-24\",\"2004-05-31\",\"2004-06-07\",\"2004-06-14\",\"2004-06-21\",\"2004-06-28\",\"2004-07-05\",\"2004-07-12\",\"2004-07-19\",\"2004-07-26\",\"2004-08-02\",\"2004-08-09\",\"2004-08-16\",\"2004-08-23\",\"2004-08-30\",\"2004-09-06\",\"2004-09-13\",\"2004-09-20\",\"2004-09-27\",\"2004-10-04\",\"2004-10-11\",\"2004-10-18\",\"2004-10-25\",\"2004-11-01\",\"2004-11-08\",\"2004-11-15\",\"2004-11-22\",\"2004-11-29\",\"2004-12-06\",\"2004-12-13\",\"2004-12-20\",\"2004-12-27\",\"2005-01-03\",\"2005-01-10\",\"2005-01-17\",\"2005-01-24\",\"2005-01-31\",\"2005-02-07\",\"2005-02-14\",\"2005-02-21\",\"2005-02-28\",\"2005-03-07\",\"2005-03-14\",\"2005-03-21\",\"2005-03-28\",\"2005-04-04\",\"2005-04-11\",\"2005-04-18\",\"2005-04-25\",\"2005-05-02\",\"2005-05-09\",\"2005-05-16\",\"2005-05-23\",\"2005-05-30\",\"2005-06-06\",\"2005-06-13\",\"2005-06-20\",\"2005-06-27\",\"2005-07-04\",\"2005-07-11\",\"2005-07-18\",\"2005-07-25\",\"2005-08-01\",\"2005-08-08\",\"2005-08-15\",\"2005-08-22\",\"2005-08-29\",\"2005-09-05\",\"2005-09-12\",\"2005-09-19\",\"2005-09-26\",\"2005-10-03\",\"2005-10-10\",\"2005-10-17\",\"2005-10-24\",\"2005-10-31\",\"2005-11-07\",\"2005-11-14\",\"2005-11-21\",\"2005-11-28\",\"2005-12-05\",\"2005-12-12\",\"2005-12-19\",\"2005-12-26\",\"2006-01-02\",\"2006-01-16\",\"2006-01-23\",\"2006-01-30\",\"2006-02-06\",\"2006-02-13\",\"2006-02-20\",\"2006-02-27\",\"2006-03-06\",\"2006-03-13\",\"2006-03-20\",\"2006-03-27\",\"2006-04-03\",\"2006-04-10\",\"2006-04-17\",\"2006-04-24\",\"2006-05-01\",\"2006-05-08\",\"2006-05-15\",\"2006-05-22\",\"2006-05-29\",\"2006-06-05\",\"2006-06-12\",\"2006-06-19\",\"2006-06-26\",\"2006-07-03\",\"2006-07-10\",\"2006-07-17\",\"2006-07-24\",\"2006-07-31\",\"2006-08-07\",\"2006-08-14\",\"2006-08-21\",\"2006-08-28\",\"2006-09-04\",\"2006-09-11\",\"2006-09-18\",\"2006-09-25\",\"2006-10-02\",\"2006-10-09\",\"2006-10-16\",\"2006-10-23\",\"2006-10-30\",\"2006-11-06\",\"2006-11-13\",\"2006-11-20\",\"2006-11-27\",\"2006-12-04\",\"2006-12-11\",\"2006-12-18\",\"2006-12-25\",\"2007-01-01\",\"2007-01-08\",\"2007-01-15\",\"2007-01-22\",\"2007-01-29\",\"2007-02-05\",\"2007-02-12\",\"2007-02-19\",\"2007-02-26\",\"2007-03-05\",\"2007-03-12\",\"2007-03-19\",\"2007-03-26\",\"2007-04-02\",\"2007-04-09\",\"2007-04-16\",\"2007-04-23\",\"2007-04-30\",\"2007-05-07\",\"2007-05-14\",\"2007-05-21\",\"2007-05-28\",\"2007-06-04\",\"2007-06-11\",\"2007-06-18\",\"2007-06-25\",\"2007-07-02\",\"2007-07-09\",\"2007-07-16\",\"2007-07-23\",\"2007-07-30\",\"2007-08-06\",\"2007-08-13\",\"2007-08-20\",\"2007-08-27\",\"2007-09-03\",\"2007-09-10\",\"2007-09-17\",\"2007-09-24\",\"2007-10-01\",\"2007-10-08\",\"2007-10-15\",\"2007-10-22\",\"2007-10-29\",\"2007-11-05\",\"2007-11-12\",\"2007-11-19\",\"2007-11-26\",\"2007-12-03\",\"2007-12-10\",\"2007-12-17\",\"2007-12-24\",\"2007-12-31\",\"2008-01-07\",\"2008-01-14\",\"2008-01-21\",\"2008-01-28\",\"2008-02-04\",\"2008-02-11\",\"2008-02-18\",\"2008-02-25\",\"2008-03-03\",\"2008-03-10\",\"2008-03-17\",\"2008-03-24\",\"2008-03-31\",\"2008-04-07\",\"2008-04-14\",\"2008-04-21\",\"2008-04-28\",\"2008-05-05\",\"2008-05-12\",\"2008-05-19\",\"2008-05-26\",\"2008-06-02\",\"2008-06-09\",\"2008-06-16\",\"2008-06-23\",\"2008-06-30\",\"2008-07-07\",\"2008-07-14\",\"2008-07-21\",\"2008-07-28\",\"2008-08-04\",\"2008-08-11\",\"2008-08-18\",\"2008-08-25\",\"2008-09-01\",\"2008-09-08\",\"2008-09-15\",\"2008-09-22\",\"2008-09-29\",\"2008-10-06\",\"2008-10-13\",\"2008-10-20\",\"2008-10-27\",\"2008-11-03\",\"2008-11-10\",\"2008-11-17\",\"2008-11-24\",\"2008-12-01\",\"2008-12-08\",\"2008-12-15\",\"2008-12-22\",\"2008-12-29\",\"2009-01-05\",\"2009-01-12\",\"2009-01-19\",\"2009-01-26\",\"2009-02-02\",\"2009-02-09\",\"2009-02-16\",\"2009-02-23\",\"2009-03-02\",\"2009-03-09\",\"2009-03-16\",\"2009-03-23\",\"2009-03-30\",\"2009-04-06\",\"2009-04-13\",\"2009-04-20\",\"2009-04-27\",\"2009-05-04\",\"2009-05-11\",\"2009-05-18\",\"2009-05-25\",\"2009-06-01\",\"2009-06-08\",\"2009-06-15\",\"2009-06-22\",\"2009-06-29\",\"2009-07-06\",\"2009-07-13\",\"2009-07-20\",\"2009-07-27\",\"2009-08-03\",\"2009-08-10\",\"2009-08-17\",\"2009-08-24\",\"2009-08-31\",\"2009-09-07\",\"2009-09-14\",\"2009-09-21\",\"2009-09-28\",\"2009-10-05\",\"2009-10-12\",\"2009-10-19\",\"2009-10-26\",\"2009-11-02\",\"2009-11-09\",\"2009-11-16\",\"2009-11-23\",\"2009-11-30\",\"2009-12-07\",\"2009-12-14\",\"2009-12-21\",\"2009-12-28\",\"2010-01-04\",\"2010-01-11\",\"2010-01-18\",\"2010-01-25\",\"2010-02-01\",\"2010-02-08\",\"2010-02-15\",\"2010-02-22\",\"2010-03-01\",\"2010-03-08\",\"2010-03-15\",\"2010-03-22\",\"2010-03-29\",\"2010-04-05\",\"2010-04-12\",\"2010-04-19\",\"2010-04-26\",\"2010-05-03\",\"2010-05-10\",\"2010-05-17\",\"2010-05-24\",\"2010-05-31\",\"2010-06-07\",\"2010-06-14\",\"2010-06-21\",\"2010-06-28\",\"2010-07-05\",\"2010-07-12\",\"2010-07-19\",\"2010-07-26\",\"2010-08-02\",\"2010-08-09\",\"2010-08-16\",\"2010-08-23\",\"2010-08-30\",\"2010-09-06\",\"2010-09-13\",\"2010-09-20\",\"2010-09-27\",\"2010-10-04\",\"2010-10-11\",\"2010-10-18\",\"2010-10-25\",\"2010-11-01\",\"2010-11-08\",\"2010-11-15\",\"2010-11-22\",\"2010-11-29\",\"2010-12-06\",\"2010-12-13\",\"2010-12-20\",\"2010-12-27\",\"2011-01-03\",\"2011-01-10\",\"2011-01-17\",\"2011-01-24\",\"2011-01-31\",\"2011-02-07\",\"2011-02-14\",\"2011-02-21\",\"2011-02-28\",\"2011-03-07\",\"2011-03-14\",\"2011-03-21\",\"2011-03-28\",\"2011-04-04\",\"2011-04-11\",\"2011-04-18\",\"2011-04-25\",\"2011-05-02\",\"2011-05-09\",\"2011-05-16\",\"2011-05-23\",\"2011-05-30\",\"2011-06-06\",\"2011-06-13\",\"2011-06-20\",\"2011-06-27\",\"2011-07-04\",\"2011-07-11\",\"2011-07-18\",\"2011-07-25\",\"2011-08-01\",\"2011-08-08\",\"2011-08-15\",\"2011-08-22\",\"2011-08-29\",\"2011-09-05\",\"2011-09-12\",\"2011-09-19\",\"2011-09-26\",\"2011-10-03\",\"2011-10-10\",\"2011-10-17\",\"2011-10-24\",\"2011-10-31\",\"2011-11-07\",\"2011-11-14\",\"2011-11-21\",\"2011-11-28\",\"2011-12-05\",\"2011-12-12\",\"2011-12-19\",\"2011-12-26\",\"2012-01-02\",\"2012-01-09\",\"2012-01-16\",\"2012-01-23\",\"2012-01-30\",\"2012-02-06\",\"2012-02-13\",\"2012-02-20\",\"2012-02-27\",\"2012-03-05\",\"2012-03-12\",\"2012-03-19\",\"2012-03-26\",\"2012-04-02\",\"2012-04-09\",\"2012-04-16\",\"2012-04-23\",\"2012-04-30\",\"2012-05-07\",\"2012-05-14\",\"2012-05-21\",\"2012-05-28\",\"2012-06-04\",\"2012-06-11\",\"2012-06-18\",\"2012-06-25\",\"2012-07-02\",\"2012-07-09\",\"2012-07-16\",\"2012-07-23\",\"2012-07-30\",\"2012-08-06\",\"2012-08-13\",\"2012-08-20\",\"2012-08-27\",\"2012-09-03\",\"2012-09-10\",\"2012-09-17\",\"2012-09-24\",\"2012-10-01\",\"2012-10-08\",\"2012-10-15\",\"2012-10-22\",\"2012-10-29\",\"2012-11-05\",\"2012-11-12\",\"2012-11-19\",\"2012-11-26\",\"2012-12-03\",\"2012-12-10\",\"2012-12-17\",\"2012-12-24\",\"2012-12-31\",\"2013-01-07\",\"2013-01-14\",\"2013-01-21\",\"2013-01-28\",\"2013-02-04\",\"2013-02-11\",\"2013-02-18\",\"2013-02-25\",\"2013-03-04\",\"2013-03-11\",\"2013-03-18\",\"2013-03-25\",\"2013-04-01\",\"2013-04-08\",\"2013-04-15\",\"2013-04-22\",\"2013-04-29\",\"2013-05-06\",\"2013-05-13\",\"2013-05-20\",\"2013-05-27\",\"2013-06-03\",\"2013-06-10\",\"2013-06-17\",\"2013-06-24\",\"2013-07-01\",\"2013-07-08\",\"2013-07-15\",\"2013-07-22\",\"2013-07-29\",\"2013-08-05\",\"2013-08-12\",\"2013-08-19\",\"2013-08-26\",\"2013-09-02\",\"2013-09-09\",\"2013-09-16\",\"2013-09-23\",\"2013-09-30\",\"2013-10-07\",\"2013-10-14\",\"2013-10-21\",\"2013-10-28\",\"2013-11-04\",\"2013-11-11\",\"2013-11-18\",\"2013-11-25\",\"2013-12-02\",\"2013-12-09\",\"2013-12-16\",\"2013-12-23\",\"2013-12-30\",\"2014-01-06\",\"2014-01-13\",\"2014-01-20\",\"2014-01-27\",\"2014-02-03\",\"2014-02-10\",\"2014-02-17\",\"2014-02-24\",\"2014-03-03\",\"2014-03-10\",\"2014-03-17\",\"2014-03-24\",\"2014-03-31\",\"2014-04-07\",\"2014-04-14\",\"2014-04-21\",\"2014-04-28\",\"2014-05-05\",\"2014-05-12\",\"2014-05-19\",\"2014-05-26\",\"2014-06-02\",\"2014-06-09\",\"2014-06-16\",\"2014-06-23\",\"2014-06-30\",\"2014-07-07\",\"2014-07-14\",\"2014-07-21\",\"2014-07-28\",\"2014-08-04\",\"2014-08-11\",\"2014-08-18\",\"2014-08-25\",\"2014-09-01\",\"2014-09-08\",\"2014-09-15\",\"2014-09-22\",\"2014-09-29\",\"2014-10-06\",\"2014-10-13\",\"2014-10-20\",\"2014-10-27\",\"2014-11-03\",\"2014-11-10\",\"2014-11-17\",\"2014-11-24\",\"2014-12-01\",\"2014-12-08\",\"2014-12-15\",\"2014-12-22\",\"2014-12-29\",\"2015-01-05\",\"2015-01-12\",\"2015-01-19\",\"2015-01-26\",\"2015-02-02\",\"2015-02-09\",\"2015-02-16\",\"2015-02-23\",\"2015-03-02\",\"2015-03-09\",\"2015-03-16\",\"2015-03-23\",\"2015-03-30\",\"2015-04-06\",\"2015-04-13\",\"2015-04-20\",\"2015-04-27\",\"2015-05-04\",\"2015-05-11\",\"2015-05-18\",\"2015-05-25\",\"2015-06-01\",\"2015-06-08\",\"2015-06-15\",\"2015-06-22\",\"2015-06-29\",\"2015-07-06\",\"2015-07-13\",\"2015-07-20\",\"2015-07-27\",\"2015-08-03\",\"2015-08-10\",\"2015-08-17\",\"2015-08-24\",\"2015-08-31\",\"2015-09-07\",\"2015-09-14\",\"2015-09-21\",\"2015-09-28\",\"2015-10-05\",\"2015-10-12\",\"2015-10-19\",\"2015-10-26\",\"2015-11-02\",\"2015-11-09\",\"2015-11-16\",\"2015-11-23\",\"2015-11-30\",\"2015-12-07\",\"2015-12-14\",\"2015-12-21\",\"2015-12-28\",\"2016-01-04\",\"2016-01-11\",\"2016-01-18\",\"2016-01-25\",\"2016-02-01\",\"2016-02-08\",\"2016-02-15\",\"2016-02-22\",\"2016-02-29\",\"2016-03-07\",\"2016-03-14\",\"2016-03-21\",\"2016-03-28\",\"2016-04-04\",\"2016-04-11\",\"2016-04-18\",\"2016-04-25\",\"2016-05-02\",\"2016-05-09\",\"2016-05-16\",\"2016-05-23\",\"2016-05-30\",\"2016-06-06\",\"2016-06-13\",\"2016-06-20\",\"2016-06-27\",\"2016-07-04\",\"2016-07-11\",\"2016-07-18\",\"2016-07-25\",\"2016-08-01\",\"2016-08-08\",\"2016-08-15\",\"2016-08-22\",\"2016-08-29\",\"2016-09-05\",\"2016-09-12\",\"2016-09-19\",\"2016-09-26\",\"2016-10-03\",\"2016-10-10\",\"2016-10-17\",\"2016-10-24\",\"2016-10-31\",\"2016-11-07\",\"2016-11-14\",\"2016-11-21\",\"2016-11-28\",\"2016-12-05\",\"2016-12-12\",\"2016-12-19\",\"2016-12-26\",\"2017-01-02\",\"2017-01-09\",\"2017-01-16\",\"2017-01-23\",\"2017-01-30\",\"2017-02-06\",\"2017-02-13\",\"2017-02-20\",\"2017-02-27\",\"2017-03-06\",\"2017-03-13\",\"2017-03-20\",\"2017-03-27\",\"2017-04-03\",\"2017-04-10\",\"2017-04-17\",\"2017-04-24\",\"2017-05-01\",\"2017-05-08\",\"2017-05-15\",\"2017-05-22\",\"2017-05-29\",\"2017-06-05\",\"2017-06-12\",\"2017-06-19\",\"2017-06-26\",\"2017-07-03\",\"2017-07-10\",\"2017-07-17\",\"2017-07-24\",\"2017-07-31\",\"2017-08-07\",\"2017-08-14\",\"2017-08-21\",\"2017-08-28\",\"2017-09-04\",\"2017-09-11\",\"2017-09-18\",\"2017-09-25\",\"2017-10-02\",\"2017-10-09\",\"2017-10-16\",\"2017-10-23\",\"2017-10-30\",\"2017-11-06\",\"2017-11-13\",\"2017-11-20\",\"2017-11-27\",\"2017-12-04\",\"2017-12-11\",\"2017-12-18\",\"2017-12-25\",\"2018-01-01\",\"2018-01-08\",\"2018-01-15\",\"2018-01-22\",\"2018-01-29\",\"2018-02-05\",\"2018-02-12\",\"2018-02-19\",\"2018-02-26\",\"2018-03-05\",\"2018-03-12\",\"2018-03-19\",\"2018-03-26\",\"2018-04-02\",\"2018-04-09\",\"2018-04-16\",\"2018-04-23\",\"2018-04-30\",\"2018-05-07\",\"2018-05-14\",\"2018-05-21\",\"2018-05-28\",\"2018-06-04\",\"2018-06-11\",\"2018-06-18\",\"2018-06-25\",\"2018-07-02\",\"2018-07-09\",\"2018-07-16\",\"2018-07-23\",\"2018-07-30\",\"2018-08-06\",\"2018-08-13\",\"2018-08-20\",\"2018-08-27\",\"2018-09-03\",\"2018-09-10\",\"2018-09-17\",\"2018-09-24\",\"2018-10-01\",\"2018-10-08\",\"2018-10-15\",\"2018-10-22\",\"2018-10-29\",\"2018-11-05\",\"2018-11-12\",\"2018-11-19\",\"2018-11-26\",\"2018-12-03\",\"2018-12-10\",\"2018-12-17\",\"2018-12-24\",\"2018-12-31\",\"2019-01-07\",\"2019-01-14\",\"2019-01-21\",\"2019-01-28\",\"2019-02-04\",\"2019-02-11\",\"2019-02-18\",\"2019-02-25\",\"2019-03-04\",\"2019-03-11\",\"2019-03-18\",\"2019-03-25\",\"2019-04-01\",\"2019-04-08\",\"2019-04-15\",\"2019-04-22\",\"2019-04-29\",\"2019-05-06\",\"2019-05-13\",\"2019-05-20\",\"2019-05-27\",\"2019-06-03\",\"2019-06-10\",\"2019-06-17\",\"2019-06-24\",\"2019-07-01\",\"2019-07-08\",\"2019-07-15\",\"2019-07-22\",\"2019-07-29\",\"2019-08-05\",\"2019-08-12\",\"2019-08-19\",\"2019-08-26\",\"2019-09-02\",\"2019-09-09\",\"2019-09-16\",\"2019-09-23\",\"2019-09-30\",\"2019-10-07\",\"2019-10-14\",\"2019-10-21\",\"2019-10-28\",\"2019-11-04\",\"2019-11-11\",\"2019-11-18\",\"2019-11-25\",\"2019-12-02\",\"2019-12-09\",\"2019-12-16\",\"2019-12-23\",\"2019-12-30\",\"2020-01-06\",\"2020-01-13\",\"2020-01-20\",\"2020-01-27\",\"2020-02-03\",\"2020-02-10\",\"2020-02-17\",\"2020-02-24\",\"2020-03-02\",\"2020-03-09\",\"2020-03-16\",\"2020-03-23\",\"2020-03-30\",\"2020-04-06\",\"2020-04-13\",\"2020-04-20\",\"2020-04-27\",\"2020-05-04\",\"2020-05-11\",\"2020-05-18\",\"2020-05-25\",\"2020-06-01\",\"2020-06-08\",\"2020-06-15\",\"2020-06-22\",\"2020-06-29\",\"2020-07-06\",\"2020-07-13\",\"2020-07-20\",\"2020-07-27\",\"2020-08-03\",\"2020-08-10\",\"2020-08-17\",\"2020-08-24\",\"2020-08-31\",\"2020-09-07\",\"2020-09-14\",\"2020-09-21\",\"2020-09-28\",\"2020-10-05\",\"2020-10-12\",\"2020-10-19\",\"2020-10-26\",\"2020-11-02\",\"2020-11-09\",\"2020-11-16\",\"2020-11-23\",\"2020-11-30\",\"2020-12-07\",\"2020-12-14\",\"2020-12-21\",\"2020-12-28\"],\"xaxis\":\"x\",\"y\":[19.18,20.27,20.1,18.89,19.73,20.4,20.04,19.66,19.8,21.24,23.07,23.9,25.92,27.52,29.43,34.51,35.12,28.46,29.58,26.92,30.77,28.79,29.68,28.43,31.45,31.83,34.51,35.87100098,33.84800049,34.59800049,35.47199951,29.86600098,30.14600098,29.73,32.72199951,34.69800049,33.89199951,32.69800049,33.138000489999996,34.43,41.20899902,40.89600098,42.311000979999996,42.10100098,41.37,41.08,37.27800049,40.8,40.27699951,40.07100098,40.14100098,44.85100098,43.44299805,45.14799805,42.7,43.222998049999994,39.41899902,33.51699951,33.72300049,26.72,26.37699951,23.28699951,22.78300049,23.36899902,20.79800049,19.46099976,19.906999510000002,22.74800049,21.963999020000003,25.54699951,21.15399902,23.335,26.045,25.34600098,24.128999020000002,23.39699951,26.07800049,25.97899902,27.215,24.82300049,25.68199951,27.47800049,30.88899902,37.18199951,38.90800049,38.58100098,41.241000979999995,43.08899902,45.54100098,46.07,45.82200195,51.54200195000001,53.54,56.065,56.56200195,54.965,52.47399902,53.67,55.31799805,53.21600098,49.41600098,48.60899902,51.28799805,56.76299804999999,57.82899902,58.055,56.417998049999994,56.902001950000006,58.07100098,52.77299805,53.58600098,61.782998049999996,61.657998049999996,61.792998049999994,59.615,57.947998049999995,59.307998049999995,61.605,65.56100098,71.325,82.98599609000001,85.09400391,79.94899902,94.08200194999999,114.67799805,132.06099609,144.03799805,152.08799805,158.37400391,191.10300781,172.58,181.72300781,168.70599609,155.98200194999998,153.63599609000002,156.18200195,167.835,178.41300781,176.69199218999998,159.20099609000002,169.00800781,183.67300781000003,169.85900390999998,192.05699219,180.86099609000001,175.575,164.49300781000002,159.22299805,165.20099609000002,164.61300781000003,143.51400390999999,149.30900391,144.66099609,143.43900391,135.21799805,136.015,141.30200195,137.89,133.04,131.96900391,130.515,130.70200194999998,121.725,114.34,109.07,113.50299805,124.60200194999999,130.15400391,135.81400391,132.27799805,148.03,138.01099609000002,128.31599609,108.085,79.77799805,97.995,94.22700194999999,94.37200195,100.07299805000001,109.64900390999999,114.00700194999999,107.42799805,105.46700195,95.45900390999999,101.695,83.44900390999999,95.13799805000001,87.63400390999999,83.65599609,80.22700195,82.36799805000001,89.40299805000001,96.58400390999999,123.63,125.29700195,117.79299805000001,127.38599609,119.68,112.71,121.38299805000001,118.39799805000001,111.19799805000001,112.04200195,101.68799805,89.40799805,96.84599609000001,97.65099609,101.01599609,94.00599609000001,97.37,100.49700195,98.78900390999999,96.28099609,79.37899902,73.06399902,76.25899902,75.98899902,84.315,88.22599609000001,99.155,100.69700195,100.80900390999999,113.70900390999999,117.19400390999999,116.33900390999999,126.62799805,127.61900390999999,127.21200195,137.82799805000002,142.72700195,136.16200195,130.12200195,128.71099609,133.75400391,112.55299805,114.78599609000001,111.65799805,114.70900390999999,117.04900391,107.71900391,117.91599609000001,116.79400390999999,118.635,122.40200195,119.70900390999999,120.41200194999999,114.69,116.38900390999999,106.09900391,108.94299805,104.13700195,101.51,94.645,92.205,93.79900391,93.51200195,94.99400390999999,104.73,100.69099609000001,107.81599609000001,104.15599609,99.21799805,93.49799805,95.47299805,96.53299805,92.49200194999999,93.25099609,88.78099609,89.32599609,93.07,99.03900390999999,104.11799805000001,102.17099609,132.21799805,135.97599609,135.01400390999999,133.00400391,132.87299805,130.47400391,112.865,104.64,108.375,102.04099609000001,103.48299805,108.25900390999999,110.32,110.13799805000001,117.54,115.74400390999999,109.61299805,106.04299805000001,94.06599609000001,96.31400391,104.15,105.65900391,112.54,113.41400390999999,113.00700194999999,106.40400390999999,103.06299805,110.56299805,113.81400391,109.73400391,107.13900390999999,107.83900390999999,109.81200195,105.02900390999999,104.54900391,108.56900390999999,105.61299805,106.21200195,115.585,118.775,120.01099609,116.11799805000001,116.31799805,127.15200195,136.635,137.58799805,142.10200195,154.20599609,153.81900391,148.66299805,157.54299805,157.08099609,160.80700195,146.175,165.04800781000003,169.55199219,182.06099609,179.96800781000002,191.47699218999998,199.265,183.01199218999997,185.18099609,172.59300781000002,169.65800781000002,190.005,186.03800781,188.89199219,191.65699218999998,193.64400390999998,200.23800781000003,208.36099609000001,204.85,195.05199219,192.695,194.315,180.22699218999998,170.02,165.31300781000002,166.28800781,173.27900391,177.08199219,176.645,169.64099609000002,173.55199219,184.16400391,183.27099609,191.57300781,189.04300781,193.80900391,191.87599609,188.26,192.86300781000003,198.55300781000003,207.75,210.04099609000002,208.33199219,223.07400391,217.225,229.51400390999999,224.77099609,222.44,228.99900391,232.15599609,221.04699218999997,231.76699219,232.93199219,230.08099609,229.43699218999998,243.60599609000002,245.37699218999998,249.71699218999998,253.08300781000003,263.62699219,269.18099609,270.74099609,278.13199219,277.36300781,272.93199218999996,280.315,276.63199219,275.72800781,253.485,255.02599609,257.40800781,257.865,238.53300781000002,247.30800781000002,235.91599609000002,249.50800781,253.25699218999998,254.64900391,244.53099609,260.51599609,257.25199219,265.29300781,270.33400391,276.16900391,278.42400391,284.27300781,291.88099609,296.15300781,299.45400391,281.75900391,284.56900391,300.20400391,317.01599609,322.02699219,332.94300781,332.505,333.33199219,334.13601563,314.4,314.28599609,310.385,331.52101562999997,340.96300780999997,353.14300781,367.59898438,385.73699219,374.96199219000005,377.16699219000003,389.195,397.77699219000004,419.05398438,444.65699219000004,453.15199219000004,442.28,447.72898438,462.44300781,468.38101563,463.66199219000003,425.21898437999994,446.88101563,432.73898438,429.11300781,442.84199219000004,422.12,450.75898437999996,438.80398438,442.12800781,419.70800780999997,396.43699219,385.935,392.85800781,348.02601562999996,340.48,331.32300781,354.53300780999996,362.02199219,338.31699219,349.88800781,361.01898437999995,361.59601562999995,374.18101563,373.84800780999996,368.61699219,374.14898437999994,373.72,381.43898437999997,363.9,369.24898437999997,367.37601563,384.86101562999994,396.43800781,406.83300780999997,393.07101563,396.27199219,384.32800781,375.82101563,381.965,393.205,402.04800781,391.80199219,391.175,384.35199219000003,381.38199219,402.01101563,418.46398437999994,431.125,421.855,436.36199219,435.91699219000003,405.50300781,420.56300781,418.19800781,434.08699219000005,436.61101562999994,458.45199219,460.44199219,473.55800781,468.61300781,448.18101563,448.20800780999997,460.73300781,461.94300781,464.90101562999996,443.32398437999996,459.71800780999996,457.05101562999994,470.93699219,498.95300781,520.86699219,529.35800781,515.6189843799999,507.16398438,491.86398438,465.76898437999995,468.24,501.98601562999994,490.50398437999996,506.20898437999995,538.8210156299999,540.4419921900001,567.93,580.53398438,562.095,564.46601563,568.5510156299999,536.89101563,543.045,523.3130078099999,542.13800781,564.90601563,549.11699219,538.4739843799999,556.9839843799999,525.29898438,519.2060156299999,486.575,454.97199219000004,444.52101562999997,419.57898437999995,443.05300781,455.925,447.76898437999995,415.37199219,425.85898438,397.19101563,395.01199219,413.62699219,419.80101562999994,426.41101562999995,435.93800781,434.25898437999996,420.34699219000004,424.98800781,399.61,399.69601563,396.455,382.95699219,379.12898437999996,358.29398438,343.00398437999996,350.065,379.46601562999996,375.57,429.84699219000004,409.49898437999997,421.94398437999996,408.94300781,398.445,391.15601562999996,370.33898437999994,363.70199219,365.56601563,345.53,284.95900391,258.70199219,241.76699219,278.32900391,266.48199218999997,254.25300781,219.66,257.15,240.34699218999998,249.36900391,262.05400391,264.99,270.05599609,264.70099609,256.31,247.81800781,259.34400390999997,267.35199219,251.995,235.795,240.26599609000002,232.2,236.15300781000002,240.38900390999999,256.97300781,266.31099609,288.38300781000004,294.46,296.75599609,316.51800781000003,328.05699219,334.845,350.145,350.03,347.50199219,348.16699219000003,358.19898437999996,367.55898437999997,367.97601562999995,367.805,377.26699219,393.95398437999995,426.41300780999995,447.67601562999994,443.02898437999994,471.70101563,475.59699219000004,451.605,465.835,471.61199219,476.25,468.56898437999996,502.175,497.90699219000004,513.8069921900001,471.84699219000004,469.69898437999996,484.41898438,452.31,453.50199219,501.02,493.86398438,501.385,516.61300781,528.25,547.9789843799999,540.0569921900001,539.975,546.50601563,514.54898438,510.63800781,533.19,497.055,526.25601563,522.33,534.37,566.10699219,580.5989843799999,591.85300781,582.235,583.38398438,589.59101563,526.87,557.4789843799999,541.11601563,552.33699219,546.12898438,551.3160156299999,570.345,558.64199219,556.365,571.50898438,577.29398438,592.995,598.66800781,597.53,584.79898438,587.4989843799999,593.45898438,609.98800781,606.0810156299999,638.62,642.415,648.82699219,672.17203125,701.01203125,710.06796875,687.605,707.79203125,695.5310156300001,699.98101563,661.47703125,668.60203125,647.59,635.24199219,662.67296875,660.045,687.70296875,678.79601563,659.27296875,632.11300781,653.09,647.30398438,659.85796875,613.67300781,611.12800781,637.8169921900001,638.39300781,642.47,657.14398438,680.93296875,684.505,686.91796875,692.50101563,682.40898438,645.85199219,632.98601563,624.07398438,628.06898438,637.00300781,617.16699219,620.72601563,632.645,635.96199219,626.35101563,598.02300781,622.95699219,562.655,521.88699219,530.61699219,537.0760156299999,553.75300781,559.03,578.965,563.2339843799999,596.93398438,573.38800781,593.00300781,567.92300781,570.42398438,561.80199219,562.015,544.7389843799999,510.71199219000005,547.6930078099999,538.3489843799999,516.65800781,519.48601563,512.66601563,501.825,515.61699219,548.88601563,573.5669921900001,601.48,593.3210156299999,611.11300781,597.375,609.02398438,592.80398438,623.36300781,614.17398438,624.23,609.39601563,605.8260156299999,601.2289843799999,605.96699219,590.15699219,588.72601563,569.35800781,548.0989843799999,555.68398438,573.0,584.6780078099999,604.51398438,625.435,627.8060156299999,626.62199219,617.92199219,643.72800781,653.03601563,651.26,657.585,656.54296875,673.68,679.37101563,681.805,678.915,663.96703125,673.83703125,696.0310156300001,707.74,707.0839843800001,714.22601563,718.20296875,707.905,710.04296875,730.585,762.42203125,762.93203125,766.84703125,785.7910156300001,795.64,810.335,850.0489843800001,847.55101563,802.21703125,786.84,780.8139843800001,758.98703125,798.675,835.4160156300001,831.155,824.52,858.99,820.71296875,845.81101563,832.855,851.12296875,890.93703125,895.6889843800001,919.24796875,910.16296875,859.9,783.32601563,800.11101563,731.01796875,762.945,731.11796875,739.22,758.74,725.55,740.32796875,735.44796875,742.75398438,679.32296875,663.9439843800001,672.3239843800001,716.35,778.62898438,747.72296875,762.07,761.76398438,762.35,792.715,765.01203125,739.18296875,742.73203125,756.3810156300001,757.48296875,733.78398438,740.65,695.72796875,638.85199219,659.67101563,679.12101563,656.35,644.275,618.58199219,646.14300781,648.82898438,638.85601563,625.53300781,630.96,632.78898438,645.79398438,691.17296875,725.8289843800001,727.36296875,734.76,713.88703125,751.59101563,755.63,750.09296875,780.60601563,792.89796875,803.97601563,790.11601563,784.00703125,784.72398438,775.34796875,793.64398438,823.145,842.18,820.9389843800001,791.99398438,766.92101563,789.29601563,803.12898438,821.93101563,778.20796875,769.21898438,746.3239843800001,743.84398438,734.94101563,755.33296875,794.17101563,805.79703125,779.57796875,812.11601563,832.81796875,861.68703125,852.39898438,832.26398438,835.73601563,849.47296875,854.58898438,876.48398438,874.16398438,907.36101563,889.45796875,849.87398438,858.09296875,854.88898438,841.475,803.10203125,766.42101563,825.0639843800001,808.94203125,829.94296875,826.45796875,824.17703125,855.51296875,839.47,840.59898438,876.0489843800001,858.03898438,829.81203125,819.4339843800001,805.325,824.54398438,835.46101563,812.17,827.91898438,827.89796875,787.12101563,799.09703125,784.2710156300001,773.09,737.97796875,746.4160156300001,729.50101563,713.50898438,750.99,746.10203125,743.96703125,792.14898438,784.83601563,801.24796875,794.09,819.30203125,818.78796875,806.81703125,756.38398438,742.65296875,702.80296875,724.60398438,741.895,717.27,706.13203125,710.62,702.4389843800001,734.81101563,742.035,709.37398438,730.15398438,749.29,771.9110156300001,793.80203125,829.4339843800001,813.565,823.59398438,825.0210156300001,855.73296875,858.28703125,853.27796875,783.68101563,778.0839843800001,763.57703125,780.28898438,781.395,768.87296875,754.305,753.66,779.5210156300001,780.195,828.25398438,717.38398438,754.055,760.65703125,782.2860156300001,781.45601563,771.19703125,768.84296875,770.535,760.20296875,797.5639843800001,764.88398438,779.76,775.54203125,788.43703125,783.3289843800001,742.67203125,751.74203125,756.39,743.635,733.90898438,757.27296875,775.89703125,769.72203125,781.38703125,771.06601563,815.24296875,830.67203125,838.27398438,883.895,874.73296875,888.3039843800001,882.585,897.22101563,896.11398438,904.91398438,903.82703125,889.47398438,884.97296875,900.63703125,924.23898438,946.55296875,939.28398438,949.96398438,951.47296875,975.33296875,988.6789843800001,989.4289843800001,981.92601563,996.38703125,1004.40398438,1000.84398438,1051.75703125,1068.42796875,1076.99703125,1085.45296875,1069.63101563,1072.02398438,1097.55101563,1100.105,1084.51703125,1077.41703125,1041.22898438,1029.07703125,1041.375,1062.25703125,1084.88703125,1078.84,1112.92796875,1089.49398438,1062.395,1045.3939843800001,1035.59,1079.21296875,1093.30203125,1110.995,1153.33,1166.37898438,1146.4460156300001,1151.47101563,1207.0189843800001,1181.19398438,1135.90296875,1165.11,1175.215,1168.59203125,1169.145,1172.16296875,1166.02796875,1149.30203125,1147.375,1096.04,1109.325,1076.14296875,1025.99203125,1018.525,1024.10296875,1032.00101563,991.71203125,958.75703125,945.40796875,958.5210156300001,965.20101563,987.33898438,898.97703125,940.82296875,955.84796875,956.105,949.3960156300001,887.34796875,901.86,927.23398438,932.74203125,947.59601563,979.88203125,999.5689843800001,948.835,966.5739843800001,964.54601563,905.415,941.23,928.39203125,936.165,930.03296875,954.16,936.995,905.2860156300001,918.60796875,904.35296875,888.30796875,916.87,984.5489843800001,1018.01398438,1029.37101563,1024.51703125,1027.15,1031.85703125,1032.66601563,1015.38296875,1033.04101563,998.35296875,937.84203125,987.8339843800001,959.76796875,968.61398438,947.83101563,939.46101563,885.3339843800001,867.96101563,860.72296875,905.89703125,938.09101563,907.87,940.22296875,964.85296875,996.34796875,970.98296875,1018.49203125,1028.37203125,996.79398438,994.05,957.34203125,971.49,967.185,989.875,1030.71796875,1002.36703125,1051.52203125,1034.635,990.27796875,984.15296875,1002.16,984.62703125,1031.53203125,1053.79703125,1065.8839843800001,1069.03703125,1088.69101563,1104.76601563,1111.76796875,1136.83601563,1136.84,1186.63703125,1214.74796875,1221.41796875,1191.40101563,1210.15101563,1201.51398438,1168.29398438,1059.93703125,1096.005,956.05203125,857.95796875,881.25,895.5260156300001,964.71,981.79796875,987.59,1011.10101563,978.45203125,997.68203125,1030.24296875,1055.205,1100.21796875,1098.355,1136.11898438,1146.68398438,1157.485,1148.08601563,1187.86101563,1192.01601563,1126.900024,1060.599976,1083.800049,1109.900024,1100.599976,1086.300049,1102.699951,1112.0,1124.199951,1145.0,1165.699951,1192.699951,1190.599976,1112.400024,1192.0,1291.300049,1324.0,1328.699951,1330.900024,1370.699951,1408.300049,1426.0,1476.699951],\"yaxis\":\"y\",\"type\":\"scattergl\"}],                        {\"template\":{\"data\":{\"histogram2dcontour\":[{\"type\":\"histogram2dcontour\",\"colorbar\":{\"outlinewidth\":0,\"ticks\":\"\"},\"colorscale\":[[0.0,\"#0d0887\"],[0.1111111111111111,\"#46039f\"],[0.2222222222222222,\"#7201a8\"],[0.3333333333333333,\"#9c179e\"],[0.4444444444444444,\"#bd3786\"],[0.5555555555555556,\"#d8576b\"],[0.6666666666666666,\"#ed7953\"],[0.7777777777777778,\"#fb9f3a\"],[0.8888888888888888,\"#fdca26\"],[1.0,\"#f0f921\"]]}],\"choropleth\":[{\"type\":\"choropleth\",\"colorbar\":{\"outlinewidth\":0,\"ticks\":\"\"}}],\"histogram2d\":[{\"type\":\"histogram2d\",\"colorbar\":{\"outlinewidth\":0,\"ticks\":\"\"},\"colorscale\":[[0.0,\"#0d0887\"],[0.1111111111111111,\"#46039f\"],[0.2222222222222222,\"#7201a8\"],[0.3333333333333333,\"#9c179e\"],[0.4444444444444444,\"#bd3786\"],[0.5555555555555556,\"#d8576b\"],[0.6666666666666666,\"#ed7953\"],[0.7777777777777778,\"#fb9f3a\"],[0.8888888888888888,\"#fdca26\"],[1.0,\"#f0f921\"]]}],\"heatmap\":[{\"type\":\"heatmap\",\"colorbar\":{\"outlinewidth\":0,\"ticks\":\"\"},\"colorscale\":[[0.0,\"#0d0887\"],[0.1111111111111111,\"#46039f\"],[0.2222222222222222,\"#7201a8\"],[0.3333333333333333,\"#9c179e\"],[0.4444444444444444,\"#bd3786\"],[0.5555555555555556,\"#d8576b\"],[0.6666666666666666,\"#ed7953\"],[0.7777777777777778,\"#fb9f3a\"],[0.8888888888888888,\"#fdca26\"],[1.0,\"#f0f921\"]]}],\"heatmapgl\":[{\"type\":\"heatmapgl\",\"colorbar\":{\"outlinewidth\":0,\"ticks\":\"\"},\"colorscale\":[[0.0,\"#0d0887\"],[0.1111111111111111,\"#46039f\"],[0.2222222222222222,\"#7201a8\"],[0.3333333333333333,\"#9c179e\"],[0.4444444444444444,\"#bd3786\"],[0.5555555555555556,\"#d8576b\"],[0.6666666666666666,\"#ed7953\"],[0.7777777777777778,\"#fb9f3a\"],[0.8888888888888888,\"#fdca26\"],[1.0,\"#f0f921\"]]}],\"contourcarpet\":[{\"type\":\"contourcarpet\",\"colorbar\":{\"outlinewidth\":0,\"ticks\":\"\"}}],\"contour\":[{\"type\":\"contour\",\"colorbar\":{\"outlinewidth\":0,\"ticks\":\"\"},\"colorscale\":[[0.0,\"#0d0887\"],[0.1111111111111111,\"#46039f\"],[0.2222222222222222,\"#7201a8\"],[0.3333333333333333,\"#9c179e\"],[0.4444444444444444,\"#bd3786\"],[0.5555555555555556,\"#d8576b\"],[0.6666666666666666,\"#ed7953\"],[0.7777777777777778,\"#fb9f3a\"],[0.8888888888888888,\"#fdca26\"],[1.0,\"#f0f921\"]]}],\"surface\":[{\"type\":\"surface\",\"colorbar\":{\"outlinewidth\":0,\"ticks\":\"\"},\"colorscale\":[[0.0,\"#0d0887\"],[0.1111111111111111,\"#46039f\"],[0.2222222222222222,\"#7201a8\"],[0.3333333333333333,\"#9c179e\"],[0.4444444444444444,\"#bd3786\"],[0.5555555555555556,\"#d8576b\"],[0.6666666666666666,\"#ed7953\"],[0.7777777777777778,\"#fb9f3a\"],[0.8888888888888888,\"#fdca26\"],[1.0,\"#f0f921\"]]}],\"mesh3d\":[{\"type\":\"mesh3d\",\"colorbar\":{\"outlinewidth\":0,\"ticks\":\"\"}}],\"scatter\":[{\"fillpattern\":{\"fillmode\":\"overlay\",\"size\":10,\"solidity\":0.2},\"type\":\"scatter\"}],\"parcoords\":[{\"type\":\"parcoords\",\"line\":{\"colorbar\":{\"outlinewidth\":0,\"ticks\":\"\"}}}],\"scatterpolargl\":[{\"type\":\"scatterpolargl\",\"marker\":{\"colorbar\":{\"outlinewidth\":0,\"ticks\":\"\"}}}],\"bar\":[{\"error_x\":{\"color\":\"#2a3f5f\"},\"error_y\":{\"color\":\"#2a3f5f\"},\"marker\":{\"line\":{\"color\":\"#E5ECF6\",\"width\":0.5},\"pattern\":{\"fillmode\":\"overlay\",\"size\":10,\"solidity\":0.2}},\"type\":\"bar\"}],\"scattergeo\":[{\"type\":\"scattergeo\",\"marker\":{\"colorbar\":{\"outlinewidth\":0,\"ticks\":\"\"}}}],\"scatterpolar\":[{\"type\":\"scatterpolar\",\"marker\":{\"colorbar\":{\"outlinewidth\":0,\"ticks\":\"\"}}}],\"histogram\":[{\"marker\":{\"pattern\":{\"fillmode\":\"overlay\",\"size\":10,\"solidity\":0.2}},\"type\":\"histogram\"}],\"scattergl\":[{\"type\":\"scattergl\",\"marker\":{\"colorbar\":{\"outlinewidth\":0,\"ticks\":\"\"}}}],\"scatter3d\":[{\"type\":\"scatter3d\",\"line\":{\"colorbar\":{\"outlinewidth\":0,\"ticks\":\"\"}},\"marker\":{\"colorbar\":{\"outlinewidth\":0,\"ticks\":\"\"}}}],\"scattermapbox\":[{\"type\":\"scattermapbox\",\"marker\":{\"colorbar\":{\"outlinewidth\":0,\"ticks\":\"\"}}}],\"scatterternary\":[{\"type\":\"scatterternary\",\"marker\":{\"colorbar\":{\"outlinewidth\":0,\"ticks\":\"\"}}}],\"scattercarpet\":[{\"type\":\"scattercarpet\",\"marker\":{\"colorbar\":{\"outlinewidth\":0,\"ticks\":\"\"}}}],\"carpet\":[{\"aaxis\":{\"endlinecolor\":\"#2a3f5f\",\"gridcolor\":\"white\",\"linecolor\":\"white\",\"minorgridcolor\":\"white\",\"startlinecolor\":\"#2a3f5f\"},\"baxis\":{\"endlinecolor\":\"#2a3f5f\",\"gridcolor\":\"white\",\"linecolor\":\"white\",\"minorgridcolor\":\"white\",\"startlinecolor\":\"#2a3f5f\"},\"type\":\"carpet\"}],\"table\":[{\"cells\":{\"fill\":{\"color\":\"#EBF0F8\"},\"line\":{\"color\":\"white\"}},\"header\":{\"fill\":{\"color\":\"#C8D4E3\"},\"line\":{\"color\":\"white\"}},\"type\":\"table\"}],\"barpolar\":[{\"marker\":{\"line\":{\"color\":\"#E5ECF6\",\"width\":0.5},\"pattern\":{\"fillmode\":\"overlay\",\"size\":10,\"solidity\":0.2}},\"type\":\"barpolar\"}],\"pie\":[{\"automargin\":true,\"type\":\"pie\"}]},\"layout\":{\"autotypenumbers\":\"strict\",\"colorway\":[\"#636efa\",\"#EF553B\",\"#00cc96\",\"#ab63fa\",\"#FFA15A\",\"#19d3f3\",\"#FF6692\",\"#B6E880\",\"#FF97FF\",\"#FECB52\"],\"font\":{\"color\":\"#2a3f5f\"},\"hovermode\":\"closest\",\"hoverlabel\":{\"align\":\"left\"},\"paper_bgcolor\":\"white\",\"plot_bgcolor\":\"#E5ECF6\",\"polar\":{\"bgcolor\":\"#E5ECF6\",\"angularaxis\":{\"gridcolor\":\"white\",\"linecolor\":\"white\",\"ticks\":\"\"},\"radialaxis\":{\"gridcolor\":\"white\",\"linecolor\":\"white\",\"ticks\":\"\"}},\"ternary\":{\"bgcolor\":\"#E5ECF6\",\"aaxis\":{\"gridcolor\":\"white\",\"linecolor\":\"white\",\"ticks\":\"\"},\"baxis\":{\"gridcolor\":\"white\",\"linecolor\":\"white\",\"ticks\":\"\"},\"caxis\":{\"gridcolor\":\"white\",\"linecolor\":\"white\",\"ticks\":\"\"}},\"coloraxis\":{\"colorbar\":{\"outlinewidth\":0,\"ticks\":\"\"}},\"colorscale\":{\"sequential\":[[0.0,\"#0d0887\"],[0.1111111111111111,\"#46039f\"],[0.2222222222222222,\"#7201a8\"],[0.3333333333333333,\"#9c179e\"],[0.4444444444444444,\"#bd3786\"],[0.5555555555555556,\"#d8576b\"],[0.6666666666666666,\"#ed7953\"],[0.7777777777777778,\"#fb9f3a\"],[0.8888888888888888,\"#fdca26\"],[1.0,\"#f0f921\"]],\"sequentialminus\":[[0.0,\"#0d0887\"],[0.1111111111111111,\"#46039f\"],[0.2222222222222222,\"#7201a8\"],[0.3333333333333333,\"#9c179e\"],[0.4444444444444444,\"#bd3786\"],[0.5555555555555556,\"#d8576b\"],[0.6666666666666666,\"#ed7953\"],[0.7777777777777778,\"#fb9f3a\"],[0.8888888888888888,\"#fdca26\"],[1.0,\"#f0f921\"]],\"diverging\":[[0,\"#8e0152\"],[0.1,\"#c51b7d\"],[0.2,\"#de77ae\"],[0.3,\"#f1b6da\"],[0.4,\"#fde0ef\"],[0.5,\"#f7f7f7\"],[0.6,\"#e6f5d0\"],[0.7,\"#b8e186\"],[0.8,\"#7fbc41\"],[0.9,\"#4d9221\"],[1,\"#276419\"]]},\"xaxis\":{\"gridcolor\":\"white\",\"linecolor\":\"white\",\"ticks\":\"\",\"title\":{\"standoff\":15},\"zerolinecolor\":\"white\",\"automargin\":true,\"zerolinewidth\":2},\"yaxis\":{\"gridcolor\":\"white\",\"linecolor\":\"white\",\"ticks\":\"\",\"title\":{\"standoff\":15},\"zerolinecolor\":\"white\",\"automargin\":true,\"zerolinewidth\":2},\"scene\":{\"xaxis\":{\"backgroundcolor\":\"#E5ECF6\",\"gridcolor\":\"white\",\"linecolor\":\"white\",\"showbackground\":true,\"ticks\":\"\",\"zerolinecolor\":\"white\",\"gridwidth\":2},\"yaxis\":{\"backgroundcolor\":\"#E5ECF6\",\"gridcolor\":\"white\",\"linecolor\":\"white\",\"showbackground\":true,\"ticks\":\"\",\"zerolinecolor\":\"white\",\"gridwidth\":2},\"zaxis\":{\"backgroundcolor\":\"#E5ECF6\",\"gridcolor\":\"white\",\"linecolor\":\"white\",\"showbackground\":true,\"ticks\":\"\",\"zerolinecolor\":\"white\",\"gridwidth\":2}},\"shapedefaults\":{\"line\":{\"color\":\"#2a3f5f\"}},\"annotationdefaults\":{\"arrowcolor\":\"#2a3f5f\",\"arrowhead\":0,\"arrowwidth\":1},\"geo\":{\"bgcolor\":\"white\",\"landcolor\":\"#E5ECF6\",\"subunitcolor\":\"white\",\"showland\":true,\"showlakes\":true,\"lakecolor\":\"white\"},\"title\":{\"x\":0.05},\"mapbox\":{\"style\":\"light\"}}},\"xaxis\":{\"anchor\":\"y\",\"domain\":[0.0,1.0],\"title\":{\"text\":\"Date\"},\"rangeslider\":{\"visible\":true}},\"yaxis\":{\"anchor\":\"x\",\"domain\":[0.0,1.0],\"title\":{\"text\":\"Close\"}},\"legend\":{\"tracegroupgap\":0},\"title\":{\"text\":\"BIST 100 Inc. Stock Price 1997-2020\"}},                        {\"responsive\": true}                    ).then(function(){\n",
              "                            \n",
              "var gd = document.getElementById('1f61bbd0-0a42-46d8-98a8-2c317f0cbf4a');\n",
              "var x = new MutationObserver(function (mutations, observer) {{\n",
              "        var display = window.getComputedStyle(gd).display;\n",
              "        if (!display || display === 'none') {{\n",
              "            console.log([gd, 'removed!']);\n",
              "            Plotly.purge(gd);\n",
              "            observer.disconnect();\n",
              "        }}\n",
              "}});\n",
              "\n",
              "// Listen for the removal of the full notebook cells\n",
              "var notebookContainer = gd.closest('#notebook-container');\n",
              "if (notebookContainer) {{\n",
              "    x.observe(notebookContainer, {childList: true});\n",
              "}}\n",
              "\n",
              "// Listen for the clearing of the current output cell\n",
              "var outputEl = gd.closest('.output');\n",
              "if (outputEl) {{\n",
              "    x.observe(outputEl, {childList: true});\n",
              "}}\n",
              "\n",
              "                        })                };                            </script>        </div>\n",
              "</body>\n",
              "</html>"
            ]
          },
          "metadata": {}
        }
      ],
      "source": [
        "fig = px.line(df.reset_index(), x='Date', y='Close', title='BIST 100 Inc. Stock Price 1997-2020')\n",
        "fig.update_xaxes(rangeslider_visible=True)\n",
        "fig.show()"
      ]
    },
    {
      "cell_type": "markdown",
      "metadata": {
        "id": "pXt2jQie3RLf"
      },
      "source": [
        "## Preprocess the Data"
      ]
    },
    {
      "cell_type": "markdown",
      "metadata": {
        "id": "GXMKRd7d3RLf"
      },
      "source": [
        "#### 1. Split the data"
      ]
    },
    {
      "cell_type": "code",
      "execution_count": null,
      "metadata": {
        "colab": {
          "base_uri": "https://localhost:8080/"
        },
        "id": "IIzWw3DA3RLf",
        "outputId": "82923426-a93e-4142-8ee0-447b4c47ea40"
      },
      "outputs": [
        {
          "output_type": "execute_result",
          "data": {
            "text/plain": [
              "((1088, 2), (123, 2))"
            ]
          },
          "metadata": {},
          "execution_count": 77
        }
      ],
      "source": [
        "train_size = int(len(df) * 0.90)\n",
        "test_size = len(df) - train_size\n",
        "train, test = df.loc[0:train_size], df.loc[train_size:len(df)]\n",
        "train.shape, test.shape"
      ]
    },
    {
      "cell_type": "markdown",
      "metadata": {
        "id": "aaFpRLS-3RLf"
      },
      "source": [
        "#### 2. Scale the data"
      ]
    },
    {
      "cell_type": "code",
      "execution_count": null,
      "metadata": {
        "id": "_PBIguDx3RLf"
      },
      "outputs": [],
      "source": [
        "scaler = StandardScaler()\n",
        "scaler = scaler.fit(np.array(train['Close']).reshape(-1,1))\n",
        "train = train.copy()\n",
        "test = test.copy()\n",
        "train.loc[:, 'Close'] = scaler.transform(np.array(train['Close']).reshape(-1,1))\n",
        "test.loc[:, 'Close'] = scaler.transform(np.array(test['Close']).reshape(-1,1))"
      ]
    },
    {
      "cell_type": "code",
      "execution_count": null,
      "metadata": {
        "colab": {
          "base_uri": "https://localhost:8080/",
          "height": 445
        },
        "id": "tKiQUMDl3RLf",
        "outputId": "507dd531-c87d-4875-a788-22393d2c73fe"
      },
      "outputs": [
        {
          "output_type": "display_data",
          "data": {
            "text/plain": [
              "<Figure size 640x480 with 1 Axes>"
            ],
            "image/png": "[encoded data removed]"
          },
          "metadata": {}
        }
      ],
      "source": [
        "plt.plot(train['Close'], label = 'scaled')\n",
        "plt.title('BIST 100 Inc. Stock Price 1997-2020')\n",
        "plt.legend()\n",
        "plt.show()"
      ]
    },
    {
      "cell_type": "markdown",
      "metadata": {
        "id": "8to4V4uE3RLf"
      },
      "source": [
        "#### 3. Create sequences"
      ]
    },
    {
      "cell_type": "code",
      "execution_count": null,
      "metadata": {
        "id": "BAk2FLtq3RLf"
      },
      "outputs": [],
      "source": [
        "TIME_STEPS=30\n",
        "\n",
        "def create_sequences(X, y, time_steps=TIME_STEPS):\n",
        "    X_out, y_out = [], []\n",
        "    for i in range(len(X)-time_steps):\n",
        "        X_out.append(X.iloc[i:(i+time_steps)].values)\n",
        "        y_out.append(y.iloc[i+time_steps])\n",
        "\n",
        "    return np.array(X_out), np.array(y_out)"
      ]
    },
    {
      "cell_type": "code",
      "source": [
        "X_train, y_train = create_sequences(train[['Close']], train['Close'])\n",
        "X_test, y_test = create_sequences(test[['Close']], test['Close'])\n",
        "print(\"Training input shape: \", X_train.shape)\n",
        "print(\"Testing input shape: \", X_test.shape)"
      ],
      "metadata": {
        "colab": {
          "base_uri": "https://localhost:8080/"
        },
        "id": "LLLHDSquMWXi",
        "outputId": "2521d5da-071f-4a27-b707-bf92a622616a"
      },
      "execution_count": null,
      "outputs": [
        {
          "output_type": "stream",
          "name": "stdout",
          "text": [
            "Training input shape:  (1058, 30, 1)\n",
            "Testing input shape:  (93, 30, 1)\n"
          ]
        }
      ]
    },
    {
      "cell_type": "markdown",
      "metadata": {
        "id": "07UMQ9Yv3RLf"
      },
      "source": [
        "## Build a Model"
      ]
    },
    {
      "cell_type": "code",
      "execution_count": null,
      "metadata": {
        "colab": {
          "base_uri": "https://localhost:8080/"
        },
        "id": "Ay0nIDlc3RLf",
        "outputId": "55661f49-c26a-4967-bc48-098afe7d4bac"
      },
      "outputs": [
        {
          "output_type": "stream",
          "name": "stdout",
          "text": [
            "Model: \"sequential_1\"\n",
            "_________________________________________________________________\n",
            " Layer (type)                Output Shape              Param #   \n",
            "=================================================================\n",
            " lstm_2 (LSTM)               (None, 128)               66560     \n",
            "                                                                 \n",
            " dropout_2 (Dropout)         (None, 128)               0         \n",
            "                                                                 \n",
            " repeat_vector_1 (RepeatVec  (None, 30, 128)           0         \n",
            " tor)                                                            \n",
            "                                                                 \n",
            " lstm_3 (LSTM)               (None, 30, 128)           131584    \n",
            "                                                                 \n",
            " dropout_3 (Dropout)         (None, 30, 128)           0         \n",
            "                                                                 \n",
            " time_distributed_1 (TimeDi  (None, 30, 1)             129       \n",
            " stributed)                                                      \n",
            "                                                                 \n",
            "=================================================================\n",
            "Total params: 198273 (774.50 KB)\n",
            "Trainable params: 198273 (774.50 KB)\n",
            "Non-trainable params: 0 (0.00 Byte)\n",
            "_________________________________________________________________\n"
          ]
        }
      ],
      "source": [
        "model = Sequential()\n",
        "model.add(LSTM(128, activation = 'tanh', input_shape=(X_train.shape[1], X_train.shape[2])))\n",
        "model.add(Dropout(rate=0.2))\n",
        "model.add(RepeatVector(X_train.shape[1]))\n",
        "model.add(LSTM(128, activation = 'tanh', return_sequences=True))\n",
        "model.add(Dropout(rate=0.2))\n",
        "model.add(TimeDistributed(Dense(X_train.shape[2])))\n",
        "model.compile(optimizer=keras.optimizers.Adam(learning_rate=0.001), loss=\"mse\")\n",
        "model.summary()"
      ]
    },
    {
      "cell_type": "markdown",
      "metadata": {
        "id": "eaF7_L1A3RLg"
      },
      "source": [
        "## Train the Model"
      ]
    },
    {
      "cell_type": "code",
      "execution_count": null,
      "metadata": {
        "colab": {
          "base_uri": "https://localhost:8080/"
        },
        "id": "J8RGA-ur3RLg",
        "outputId": "8627297f-2238-4eaf-b2cd-34c58a529490"
      },
      "outputs": [
        {
          "output_type": "stream",
          "name": "stdout",
          "text": [
            "Epoch 1/10\n",
            "30/30 [==============================] - 8s 107ms/step - loss: 217797.4219 - val_loss: 912881.6875\n",
            "Epoch 2/10\n",
            "30/30 [==============================] - 2s 81ms/step - loss: 212852.2344 - val_loss: 905027.1875\n",
            "Epoch 3/10\n",
            "30/30 [==============================] - 2s 79ms/step - loss: 210077.5156 - val_loss: 898309.6875\n",
            "Epoch 4/10\n",
            "30/30 [==============================] - 3s 101ms/step - loss: 207490.9688 - val_loss: 891967.9375\n",
            "Epoch 5/10\n",
            "30/30 [==============================] - 5s 146ms/step - loss: 205051.7812 - val_loss: 885842.8750\n",
            "Epoch 6/10\n",
            "30/30 [==============================] - 5s 156ms/step - loss: 202667.7969 - val_loss: 879858.0625\n",
            "Epoch 7/10\n",
            "30/30 [==============================] - 6s 194ms/step - loss: 200369.1250 - val_loss: 873993.7500\n",
            "Epoch 8/10\n",
            "30/30 [==============================] - 5s 156ms/step - loss: 198109.0625 - val_loss: 868226.4375\n",
            "Epoch 9/10\n",
            "30/30 [==============================] - 6s 201ms/step - loss: 195890.7969 - val_loss: 862538.5625\n",
            "Epoch 10/10\n",
            "30/30 [==============================] - 3s 84ms/step - loss: 193720.2344 - val_loss: 856922.5625\n"
          ]
        }
      ],
      "source": [
        "history = model.fit(X_train,\n",
        "                    y_train,\n",
        "                    epochs=10,\n",
        "                    batch_size=32,\n",
        "                    validation_split=0.1,\n",
        "                    callbacks=[keras.callbacks.EarlyStopping(monitor='val_loss', patience=5, mode='min')],\n",
        "                    shuffle=False)"
      ]
    },
    {
      "cell_type": "markdown",
      "metadata": {
        "id": "0qFlLW6L3RLg"
      },
      "source": [
        "#### Training and Validation Loss"
      ]
    },
    {
      "cell_type": "code",
      "execution_count": null,
      "metadata": {
        "id": "SXhKKS3F3RLg",
        "colab": {
          "base_uri": "https://localhost:8080/",
          "height": 465
        },
        "outputId": "19c81401-1577-4a50-bc25-7aca8a4f0a00"
      },
      "outputs": [
        {
          "output_type": "display_data",
          "data": {
            "text/plain": [
              "<Figure size 640x480 with 1 Axes>"
            ],
            "image/png": "[encoded data removed]"
          },
          "metadata": {}
        }
      ],
      "source": [
        "plt.plot(history.history['loss'], label='Training loss')\n",
        "plt.plot(history.history['val_loss'], label='Validation loss')\n",
        "plt.xlabel('Epoch')\n",
        "plt.ylabel('Loss')\n",
        "plt.title(\"BIST 100 Inc. Stock Price 1997-2020\")\n",
        "plt.legend()\n",
        "plt.show()"
      ]
    },
    {
      "cell_type": "markdown",
      "source": [
        "#### Mean Absolute Error Loss"
      ],
      "metadata": {
        "id": "4K4tqJ9848Gd"
      }
    },
    {
      "cell_type": "code",
      "execution_count": null,
      "metadata": {
        "id": "iNL3O4_f3RLg",
        "colab": {
          "base_uri": "https://localhost:8080/",
          "height": 480
        },
        "outputId": "2628929b-d8ab-4c98-b9d4-abdc3bec0e89"
      },
      "outputs": [
        {
          "output_type": "stream",
          "name": "stdout",
          "text": [
            "34/34 [==============================] - 2s 24ms/step\n",
            "Reconstruction error threshold: 967.2487356867799\n"
          ]
        },
        {
          "output_type": "display_data",
          "data": {
            "text/plain": [
              "<Figure size 640x480 with 1 Axes>"
            ],
            "image/png": "[encoded data removed]"
          },
          "metadata": {}
        }
      ],
      "source": [
        "X_train_pred = model.predict(X_train)\n",
        "train_mae_loss = np.mean(np.abs(X_train_pred - X_train), axis=1)\n",
        "\n",
        "plt.hist(train_mae_loss, bins=50)\n",
        "plt.xlabel('Train MAE loss')\n",
        "plt.ylabel('Number of Samples');\n",
        "\n",
        "threshold = np.max(train_mae_loss) * 0.9\n",
        "print('Reconstruction error threshold:',threshold)"
      ]
    },
    {
      "cell_type": "markdown",
      "metadata": {
        "id": "RYGLAfjS3RLg"
      },
      "source": [
        "## Predict Anomalies"
      ]
    },
    {
      "cell_type": "code",
      "execution_count": null,
      "metadata": {
        "id": "hL3T6wUF3RLg",
        "colab": {
          "base_uri": "https://localhost:8080/",
          "height": 480
        },
        "outputId": "835f3729-e57e-47be-d0ff-8ce6b5e4b030"
      },
      "outputs": [
        {
          "output_type": "stream",
          "name": "stdout",
          "text": [
            "3/3 [==============================] - 0s 31ms/step\n"
          ]
        },
        {
          "output_type": "execute_result",
          "data": {
            "text/plain": [
              "Text(0, 0.5, 'Number of samples')"
            ]
          },
          "metadata": {},
          "execution_count": 85
        },
        {
          "output_type": "display_data",
          "data": {
            "text/plain": [
              "<Figure size 640x480 with 1 Axes>"
            ],
            "image/png": "[encoded data removed]"
          },
          "metadata": {}
        }
      ],
      "source": [
        "X_test_pred = model.predict(X_test, verbose=1)\n",
        "test_mae_loss = np.mean(np.abs(X_test_pred - X_test), axis=1)\n",
        "\n",
        "plt.hist(test_mae_loss, bins=50)\n",
        "plt.xlabel('Test MAE loss')\n",
        "plt.ylabel('Number of samples')"
      ]
    },
    {
      "cell_type": "code",
      "execution_count": null,
      "metadata": {
        "id": "Ww4nlKL43RLg"
      },
      "outputs": [],
      "source": [
        "anomaly_df = pd.DataFrame(test[TIME_STEPS:])\n",
        "anomaly_df['loss'] = test_mae_loss\n",
        "anomaly_df['threshold'] = threshold\n",
        "anomaly_df['anomaly'] = anomaly_df['loss'] > anomaly_df['threshold']"
      ]
    },
    {
      "cell_type": "code",
      "execution_count": null,
      "metadata": {
        "id": "Pm_8iaIB3RLg",
        "colab": {
          "base_uri": "https://localhost:8080/",
          "height": 206
        },
        "outputId": "fb9f7c02-358f-4a6d-805b-c70cded77e36"
      },
      "outputs": [
        {
          "output_type": "execute_result",
          "data": {
            "text/plain": [
              "            Date        Close        loss   threshold  anomaly\n",
              "1126  2019-01-28  1029.371016  894.060882  967.248736    False\n",
              "1127  2019-02-04  1024.517031  895.461950  967.248736    False\n",
              "1128  2019-02-11  1027.150000  899.646617  967.248736    False\n",
              "1129  2019-02-18  1031.857031  902.524184  967.248736    False\n",
              "1130  2019-02-25  1032.666016  905.057820  967.248736    False"
            ],
            "text/html": [
              "\n",
              "  <div id=\"df-5b29f44f-9c3a-4716-a8f7-7a3ff67633ac\" class=\"colab-df-container\">\n",
              "    <div>\n",
              "<style scoped>\n",
              "    .dataframe tbody tr th:only-of-type {\n",
              "        vertical-align: middle;\n",
              "    }\n",
              "\n",
              "    .dataframe tbody tr th {\n",
              "        vertical-align: top;\n",
              "    }\n",
              "\n",
              "    .dataframe thead th {\n",
              "        text-align: right;\n",
              "    }\n",
              "</style>\n",
              "<table border=\"1\" class=\"dataframe\">\n",
              "  <thead>\n",
              "    <tr style=\"text-align: right;\">\n",
              "      <th></th>\n",
              "      <th>Date</th>\n",
              "      <th>Close</th>\n",
              "      <th>loss</th>\n",
              "      <th>threshold</th>\n",
              "      <th>anomaly</th>\n",
              "    </tr>\n",
              "  </thead>\n",
              "  <tbody>\n",
              "    <tr>\n",
              "      <th>1126</th>\n",
              "      <td>2019-01-28</td>\n",
              "      <td>1029.371016</td>\n",
              "      <td>894.060882</td>\n",
              "      <td>967.248736</td>\n",
              "      <td>False</td>\n",
              "    </tr>\n",
              "    <tr>\n",
              "      <th>1127</th>\n",
              "      <td>2019-02-04</td>\n",
              "      <td>1024.517031</td>\n",
              "      <td>895.461950</td>\n",
              "      <td>967.248736</td>\n",
              "      <td>False</td>\n",
              "    </tr>\n",
              "    <tr>\n",
              "      <th>1128</th>\n",
              "      <td>2019-02-11</td>\n",
              "      <td>1027.150000</td>\n",
              "      <td>899.646617</td>\n",
              "      <td>967.248736</td>\n",
              "      <td>False</td>\n",
              "    </tr>\n",
              "    <tr>\n",
              "      <th>1129</th>\n",
              "      <td>2019-02-18</td>\n",
              "      <td>1031.857031</td>\n",
              "      <td>902.524184</td>\n",
              "      <td>967.248736</td>\n",
              "      <td>False</td>\n",
              "    </tr>\n",
              "    <tr>\n",
              "      <th>1130</th>\n",
              "      <td>2019-02-25</td>\n",
              "      <td>1032.666016</td>\n",
              "      <td>905.057820</td>\n",
              "      <td>967.248736</td>\n",
              "      <td>False</td>\n",
              "    </tr>\n",
              "  </tbody>\n",
              "</table>\n",
              "</div>\n",
              "    <div class=\"colab-df-buttons\">\n",
              "\n",
              "  <div class=\"colab-df-container\">\n",
              "    <button class=\"colab-df-convert\" onclick=\"convertToInteractive('df-5b29f44f-9c3a-4716-a8f7-7a3ff67633ac')\"\n",
              "            title=\"Convert this dataframe to an interactive table.\"\n",
              "            style=\"display:none;\">\n",
              "\n",
              "  <svg xmlns=\"http://www.w3.org/2000/svg\" height=\"24px\" viewBox=\"0 -960 960 960\">\n",
              "    <path d=\"M120-120v-720h720v720H120Zm60-500h600v-160H180v160Zm220 220h160v-160H400v160Zm0 220h160v-160H400v160ZM180-400h160v-160H180v160Zm440 0h160v-160H620v160ZM180-180h160v-160H180v160Zm440 0h160v-160H620v160Z\"/>\n",
              "  </svg>\n",
              "    </button>\n",
              "\n",
              "  <style>\n",
              "    .colab-df-container {\n",
              "      display:flex;\n",
              "      gap: 12px;\n",
              "    }\n",
              "\n",
              "    .colab-df-convert {\n",
              "      background-color: #E8F0FE;\n",
              "      border: none;\n",
              "      border-radius: 50%;\n",
              "      cursor: pointer;\n",
              "      display: none;\n",
              "      fill: #1967D2;\n",
              "      height: 32px;\n",
              "      padding: 0 0 0 0;\n",
              "      width: 32px;\n",
              "    }\n",
              "\n",
              "    .colab-df-convert:hover {\n",
              "      background-color: #E2EBFA;\n",
              "      box-shadow: 0px 1px 2px rgba(60, 64, 67, 0.3), 0px 1px 3px 1px rgba(60, 64, 67, 0.15);\n",
              "      fill: #174EA6;\n",
              "    }\n",
              "\n",
              "    .colab-df-buttons div {\n",
              "      margin-bottom: 4px;\n",
              "    }\n",
              "\n",
              "    [theme=dark] .colab-df-convert {\n",
              "      background-color: #3B4455;\n",
              "      fill: #D2E3FC;\n",
              "    }\n",
              "\n",
              "    [theme=dark] .colab-df-convert:hover {\n",
              "      background-color: #434B5C;\n",
              "      box-shadow: 0px 1px 3px 1px rgba(0, 0, 0, 0.15);\n",
              "      filter: drop-shadow(0px 1px 2px rgba(0, 0, 0, 0.3));\n",
              "      fill: #FFFFFF;\n",
              "    }\n",
              "  </style>\n",
              "\n",
              "    <script>\n",
              "      const buttonEl =\n",
              "        document.querySelector('#df-5b29f44f-9c3a-4716-a8f7-7a3ff67633ac button.colab-df-convert');\n",
              "      buttonEl.style.display =\n",
              "        google.colab.kernel.accessAllowed ? 'block' : 'none';\n",
              "\n",
              "      async function convertToInteractive(key) {\n",
              "        const element = document.querySelector('#df-5b29f44f-9c3a-4716-a8f7-7a3ff67633ac');\n",
              "        const dataTable =\n",
              "          await google.colab.kernel.invokeFunction('convertToInteractive',\n",
              "                                                    [key], {});\n",
              "        if (!dataTable) return;\n",
              "\n",
              "        const docLinkHtml = 'Like what you see? Visit the ' +\n",
              "          '<a target=\"_blank\" href=https://colab.research.google.com/notebooks/data_table.ipynb>data table notebook</a>'\n",
              "          + ' to learn more about interactive tables.';\n",
              "        element.innerHTML = '';\n",
              "        dataTable['output_type'] = 'display_data';\n",
              "        await google.colab.output.renderOutput(dataTable, element);\n",
              "        const docLink = document.createElement('div');\n",
              "        docLink.innerHTML = docLinkHtml;\n",
              "        element.appendChild(docLink);\n",
              "      }\n",
              "    </script>\n",
              "  </div>\n",
              "\n",
              "\n",
              "<div id=\"df-42399a65-567e-403b-af7c-9cb04da19026\">\n",
              "  <button class=\"colab-df-quickchart\" onclick=\"quickchart('df-42399a65-567e-403b-af7c-9cb04da19026')\"\n",
              "            title=\"Suggest charts\"\n",
              "            style=\"display:none;\">\n",
              "\n",
              "<svg xmlns=\"http://www.w3.org/2000/svg\" height=\"24px\"viewBox=\"0 0 24 24\"\n",
              "     width=\"24px\">\n",
              "    <g>\n",
              "        <path d=\"M19 3H5c-1.1 0-2 .9-2 2v14c0 1.1.9 2 2 2h14c1.1 0 2-.9 2-2V5c0-1.1-.9-2-2-2zM9 17H7v-7h2v7zm4 0h-2V7h2v10zm4 0h-2v-4h2v4z\"/>\n",
              "    </g>\n",
              "</svg>\n",
              "  </button>\n",
              "\n",
              "<style>\n",
              "  .colab-df-quickchart {\n",
              "      --bg-color: #E8F0FE;\n",
              "      --fill-color: #1967D2;\n",
              "      --hover-bg-color: #E2EBFA;\n",
              "      --hover-fill-color: #174EA6;\n",
              "      --disabled-fill-color: #AAA;\n",
              "      --disabled-bg-color: #DDD;\n",
              "  }\n",
              "\n",
              "  [theme=dark] .colab-df-quickchart {\n",
              "      --bg-color: #3B4455;\n",
              "      --fill-color: #D2E3FC;\n",
              "      --hover-bg-color: #434B5C;\n",
              "      --hover-fill-color: #FFFFFF;\n",
              "      --disabled-bg-color: #3B4455;\n",
              "      --disabled-fill-color: #666;\n",
              "  }\n",
              "\n",
              "  .colab-df-quickchart {\n",
              "    background-color: var(--bg-color);\n",
              "    border: none;\n",
              "    border-radius: 50%;\n",
              "    cursor: pointer;\n",
              "    display: none;\n",
              "    fill: var(--fill-color);\n",
              "    height: 32px;\n",
              "    padding: 0;\n",
              "    width: 32px;\n",
              "  }\n",
              "\n",
              "  .colab-df-quickchart:hover {\n",
              "    background-color: var(--hover-bg-color);\n",
              "    box-shadow: 0 1px 2px rgba(60, 64, 67, 0.3), 0 1px 3px 1px rgba(60, 64, 67, 0.15);\n",
              "    fill: var(--button-hover-fill-color);\n",
              "  }\n",
              "\n",
              "  .colab-df-quickchart-complete:disabled,\n",
              "  .colab-df-quickchart-complete:disabled:hover {\n",
              "    background-color: var(--disabled-bg-color);\n",
              "    fill: var(--disabled-fill-color);\n",
              "    box-shadow: none;\n",
              "  }\n",
              "\n",
              "  .colab-df-spinner {\n",
              "    border: 2px solid var(--fill-color);\n",
              "    border-color: transparent;\n",
              "    border-bottom-color: var(--fill-color);\n",
              "    animation:\n",
              "      spin 1s steps(1) infinite;\n",
              "  }\n",
              "\n",
              "  @keyframes spin {\n",
              "    0% {\n",
              "      border-color: transparent;\n",
              "      border-bottom-color: var(--fill-color);\n",
              "      border-left-color: var(--fill-color);\n",
              "    }\n",
              "    20% {\n",
              "      border-color: transparent;\n",
              "      border-left-color: var(--fill-color);\n",
              "      border-top-color: var(--fill-color);\n",
              "    }\n",
              "    30% {\n",
              "      border-color: transparent;\n",
              "      border-left-color: var(--fill-color);\n",
              "      border-top-color: var(--fill-color);\n",
              "      border-right-color: var(--fill-color);\n",
              "    }\n",
              "    40% {\n",
              "      border-color: transparent;\n",
              "      border-right-color: var(--fill-color);\n",
              "      border-top-color: var(--fill-color);\n",
              "    }\n",
              "    60% {\n",
              "      border-color: transparent;\n",
              "      border-right-color: var(--fill-color);\n",
              "    }\n",
              "    80% {\n",
              "      border-color: transparent;\n",
              "      border-right-color: var(--fill-color);\n",
              "      border-bottom-color: var(--fill-color);\n",
              "    }\n",
              "    90% {\n",
              "      border-color: transparent;\n",
              "      border-bottom-color: var(--fill-color);\n",
              "    }\n",
              "  }\n",
              "</style>\n",
              "\n",
              "  <script>\n",
              "    async function quickchart(key) {\n",
              "      const quickchartButtonEl =\n",
              "        document.querySelector('#' + key + ' button');\n",
              "      quickchartButtonEl.disabled = true;  // To prevent multiple clicks.\n",
              "      quickchartButtonEl.classList.add('colab-df-spinner');\n",
              "      try {\n",
              "        const charts = await google.colab.kernel.invokeFunction(\n",
              "            'suggestCharts', [key], {});\n",
              "      } catch (error) {\n",
              "        console.error('Error during call to suggestCharts:', error);\n",
              "      }\n",
              "      quickchartButtonEl.classList.remove('colab-df-spinner');\n",
              "      quickchartButtonEl.classList.add('colab-df-quickchart-complete');\n",
              "    }\n",
              "    (() => {\n",
              "      let quickchartButtonEl =\n",
              "        document.querySelector('#df-42399a65-567e-403b-af7c-9cb04da19026 button');\n",
              "      quickchartButtonEl.style.display =\n",
              "        google.colab.kernel.accessAllowed ? 'block' : 'none';\n",
              "    })();\n",
              "  </script>\n",
              "</div>\n",
              "\n",
              "    </div>\n",
              "  </div>\n"
            ]
          },
          "metadata": {},
          "execution_count": 87
        }
      ],
      "source": [
        "anomaly_df.head()"
      ]
    },
    {
      "cell_type": "code",
      "execution_count": null,
      "metadata": {
        "id": "KtdYTGoR3RLg",
        "colab": {
          "base_uri": "https://localhost:8080/",
          "height": 542
        },
        "outputId": "9212b631-cc75-4363-bbe3-e9e884a42a2c"
      },
      "outputs": [
        {
          "output_type": "display_data",
          "data": {
            "text/html": [
              "<html>\n",
              "<head><meta charset=\"utf-8\" /></head>\n",
              "<body>\n",
              "    <div>            <script src=\"https://cdnjs.cloudflare.com/ajax/libs/mathjax/2.7.5/MathJax.js?config=TeX-AMS-MML_SVG\"></script><script type=\"text/javascript\">if (window.MathJax && window.MathJax.Hub && window.MathJax.Hub.Config) {window.MathJax.Hub.Config({SVG: {font: \"STIX-Web\"}});}</script>                <script type=\"text/javascript\">window.PlotlyConfig = {MathJaxConfig: 'local'};</script>\n",
              "        <script charset=\"utf-8\" src=\"https://cdn.plot.ly/plotly-2.24.1.min.js\"></script>                <div id=\"66b1e8c1-b909-421d-8aed-04c488077a61\" class=\"plotly-graph-div\" style=\"height:525px; width:100%;\"></div>            <script type=\"text/javascript\">                                    window.PLOTLYENV=window.PLOTLYENV || {};                                    if (document.getElementById(\"66b1e8c1-b909-421d-8aed-04c488077a61\")) {                    Plotly.newPlot(                        \"66b1e8c1-b909-421d-8aed-04c488077a61\",                        [{\"name\":\"Test loss\",\"x\":[\"2019-01-28\",\"2019-02-04\",\"2019-02-11\",\"2019-02-18\",\"2019-02-25\",\"2019-03-04\",\"2019-03-11\",\"2019-03-18\",\"2019-03-25\",\"2019-04-01\",\"2019-04-08\",\"2019-04-15\",\"2019-04-22\",\"2019-04-29\",\"2019-05-06\",\"2019-05-13\",\"2019-05-20\",\"2019-05-27\",\"2019-06-03\",\"2019-06-10\",\"2019-06-17\",\"2019-06-24\",\"2019-07-01\",\"2019-07-08\",\"2019-07-15\",\"2019-07-22\",\"2019-07-29\",\"2019-08-05\",\"2019-08-12\",\"2019-08-19\",\"2019-08-26\",\"2019-09-02\",\"2019-09-09\",\"2019-09-16\",\"2019-09-23\",\"2019-09-30\",\"2019-10-07\",\"2019-10-14\",\"2019-10-21\",\"2019-10-28\",\"2019-11-04\",\"2019-11-11\",\"2019-11-18\",\"2019-11-25\",\"2019-12-02\",\"2019-12-09\",\"2019-12-16\",\"2019-12-23\",\"2019-12-30\",\"2020-01-06\",\"2020-01-13\",\"2020-01-20\",\"2020-01-27\",\"2020-02-03\",\"2020-02-10\",\"2020-02-17\",\"2020-02-24\",\"2020-03-02\",\"2020-03-09\",\"2020-03-16\",\"2020-03-23\",\"2020-03-30\",\"2020-04-06\",\"2020-04-13\",\"2020-04-20\",\"2020-04-27\",\"2020-05-04\",\"2020-05-11\",\"2020-05-18\",\"2020-05-25\",\"2020-06-01\",\"2020-06-08\",\"2020-06-15\",\"2020-06-22\",\"2020-06-29\",\"2020-07-06\",\"2020-07-13\",\"2020-07-20\",\"2020-07-27\",\"2020-08-03\",\"2020-08-10\",\"2020-08-17\",\"2020-08-24\",\"2020-08-31\",\"2020-09-07\",\"2020-09-14\",\"2020-09-21\",\"2020-09-28\",\"2020-10-05\",\"2020-10-12\",\"2020-10-19\",\"2020-10-26\",\"2020-11-02\"],\"y\":[894.0608821529524,895.4619501155989,899.646616655109,902.5241843634425,905.0578197801093,907.6098538887558,909.8094188655991,914.6658538887556,917.8822857989526,918.2358874884424,920.0722860532655,920.4780176967756,920.1024161344423,918.3778170489525,918.0653514119119,915.3573507761291,912.1378509032858,910.6481165282859,909.4703510304423,909.793650382619,908.850483843109,909.1901503826192,909.5465828014425,911.5250150931091,913.714913657599,917.044382407599,921.1783511575991,924.7945515514424,927.3672182181091,926.4603200347555,924.9095203011092,922.836653240599,921.6819187384425,921.800851030109,920.8178511572656,921.4463848841091,922.088119259109,920.662684363109,920.1893510297757,922.3332834485989,922.2263851380887,924.6185203004424,927.4579553232657,931.3930544087556,935.7122548022656,942.4908226377556,950.3843223834426,958.7524891772656,966.4504553232657,973.0754214689324,982.3676557167757,991.5184891772656,1000.0706557167757,1006.5724239461092,1014.5446923025988,1020.6454240735989,1025.3094891779322,1027.4142575340888,1030.8127575340889,1030.7697572797758,1026.9853563652657,1024.1208563652658,1020.9758902195991,1018.775624594599,1018.0899890507757,1015.958921469599,1015.1744551967757,1014.7802574072656,1015.2312259029525,1016.1673249884425,1018.5199240739324,1020.8094553239322,1022.2947210760889,1024.6358873612858,1027.2241193865989,1029.5172520717756,1030.9612520717758,1033.4976869677755,1035.337020301109,1035.0056877677757,1030.8044524656193,1026.4395221887557,1022.722257236599,1019.6955557884426,1015.5671902341091,1012.2733891214424,1010.3969229754424,1012.5390203004423,1014.172186967109,1021.1604510859322,1032.318517160932,1042.6301830275988,1049.859316639932],\"type\":\"scatter\"},{\"name\":\"Threshold\",\"x\":[\"2019-01-28\",\"2019-02-04\",\"2019-02-11\",\"2019-02-18\",\"2019-02-25\",\"2019-03-04\",\"2019-03-11\",\"2019-03-18\",\"2019-03-25\",\"2019-04-01\",\"2019-04-08\",\"2019-04-15\",\"2019-04-22\",\"2019-04-29\",\"2019-05-06\",\"2019-05-13\",\"2019-05-20\",\"2019-05-27\",\"2019-06-03\",\"2019-06-10\",\"2019-06-17\",\"2019-06-24\",\"2019-07-01\",\"2019-07-08\",\"2019-07-15\",\"2019-07-22\",\"2019-07-29\",\"2019-08-05\",\"2019-08-12\",\"2019-08-19\",\"2019-08-26\",\"2019-09-02\",\"2019-09-09\",\"2019-09-16\",\"2019-09-23\",\"2019-09-30\",\"2019-10-07\",\"2019-10-14\",\"2019-10-21\",\"2019-10-28\",\"2019-11-04\",\"2019-11-11\",\"2019-11-18\",\"2019-11-25\",\"2019-12-02\",\"2019-12-09\",\"2019-12-16\",\"2019-12-23\",\"2019-12-30\",\"2020-01-06\",\"2020-01-13\",\"2020-01-20\",\"2020-01-27\",\"2020-02-03\",\"2020-02-10\",\"2020-02-17\",\"2020-02-24\",\"2020-03-02\",\"2020-03-09\",\"2020-03-16\",\"2020-03-23\",\"2020-03-30\",\"2020-04-06\",\"2020-04-13\",\"2020-04-20\",\"2020-04-27\",\"2020-05-04\",\"2020-05-11\",\"2020-05-18\",\"2020-05-25\",\"2020-06-01\",\"2020-06-08\",\"2020-06-15\",\"2020-06-22\",\"2020-06-29\",\"2020-07-06\",\"2020-07-13\",\"2020-07-20\",\"2020-07-27\",\"2020-08-03\",\"2020-08-10\",\"2020-08-17\",\"2020-08-24\",\"2020-08-31\",\"2020-09-07\",\"2020-09-14\",\"2020-09-21\",\"2020-09-28\",\"2020-10-05\",\"2020-10-12\",\"2020-10-19\",\"2020-10-26\",\"2020-11-02\"],\"y\":[967.2487356867799,967.2487356867799,967.2487356867799,967.2487356867799,967.2487356867799,967.2487356867799,967.2487356867799,967.2487356867799,967.2487356867799,967.2487356867799,967.2487356867799,967.2487356867799,967.2487356867799,967.2487356867799,967.2487356867799,967.2487356867799,967.2487356867799,967.2487356867799,967.2487356867799,967.2487356867799,967.2487356867799,967.2487356867799,967.2487356867799,967.2487356867799,967.2487356867799,967.2487356867799,967.2487356867799,967.2487356867799,967.2487356867799,967.2487356867799,967.2487356867799,967.2487356867799,967.2487356867799,967.2487356867799,967.2487356867799,967.2487356867799,967.2487356867799,967.2487356867799,967.2487356867799,967.2487356867799,967.2487356867799,967.2487356867799,967.2487356867799,967.2487356867799,967.2487356867799,967.2487356867799,967.2487356867799,967.2487356867799,967.2487356867799,967.2487356867799,967.2487356867799,967.2487356867799,967.2487356867799,967.2487356867799,967.2487356867799,967.2487356867799,967.2487356867799,967.2487356867799,967.2487356867799,967.2487356867799,967.2487356867799,967.2487356867799,967.2487356867799,967.2487356867799,967.2487356867799,967.2487356867799,967.2487356867799,967.2487356867799,967.2487356867799,967.2487356867799,967.2487356867799,967.2487356867799,967.2487356867799,967.2487356867799,967.2487356867799,967.2487356867799,967.2487356867799,967.2487356867799,967.2487356867799,967.2487356867799,967.2487356867799,967.2487356867799,967.2487356867799,967.2487356867799,967.2487356867799,967.2487356867799,967.2487356867799,967.2487356867799,967.2487356867799,967.2487356867799,967.2487356867799,967.2487356867799,967.2487356867799],\"type\":\"scatter\"}],                        {\"template\":{\"data\":{\"histogram2dcontour\":[{\"type\":\"histogram2dcontour\",\"colorbar\":{\"outlinewidth\":0,\"ticks\":\"\"},\"colorscale\":[[0.0,\"#0d0887\"],[0.1111111111111111,\"#46039f\"],[0.2222222222222222,\"#7201a8\"],[0.3333333333333333,\"#9c179e\"],[0.4444444444444444,\"#bd3786\"],[0.5555555555555556,\"#d8576b\"],[0.6666666666666666,\"#ed7953\"],[0.7777777777777778,\"#fb9f3a\"],[0.8888888888888888,\"#fdca26\"],[1.0,\"#f0f921\"]]}],\"choropleth\":[{\"type\":\"choropleth\",\"colorbar\":{\"outlinewidth\":0,\"ticks\":\"\"}}],\"histogram2d\":[{\"type\":\"histogram2d\",\"colorbar\":{\"outlinewidth\":0,\"ticks\":\"\"},\"colorscale\":[[0.0,\"#0d0887\"],[0.1111111111111111,\"#46039f\"],[0.2222222222222222,\"#7201a8\"],[0.3333333333333333,\"#9c179e\"],[0.4444444444444444,\"#bd3786\"],[0.5555555555555556,\"#d8576b\"],[0.6666666666666666,\"#ed7953\"],[0.7777777777777778,\"#fb9f3a\"],[0.8888888888888888,\"#fdca26\"],[1.0,\"#f0f921\"]]}],\"heatmap\":[{\"type\":\"heatmap\",\"colorbar\":{\"outlinewidth\":0,\"ticks\":\"\"},\"colorscale\":[[0.0,\"#0d0887\"],[0.1111111111111111,\"#46039f\"],[0.2222222222222222,\"#7201a8\"],[0.3333333333333333,\"#9c179e\"],[0.4444444444444444,\"#bd3786\"],[0.5555555555555556,\"#d8576b\"],[0.6666666666666666,\"#ed7953\"],[0.7777777777777778,\"#fb9f3a\"],[0.8888888888888888,\"#fdca26\"],[1.0,\"#f0f921\"]]}],\"heatmapgl\":[{\"type\":\"heatmapgl\",\"colorbar\":{\"outlinewidth\":0,\"ticks\":\"\"},\"colorscale\":[[0.0,\"#0d0887\"],[0.1111111111111111,\"#46039f\"],[0.2222222222222222,\"#7201a8\"],[0.3333333333333333,\"#9c179e\"],[0.4444444444444444,\"#bd3786\"],[0.5555555555555556,\"#d8576b\"],[0.6666666666666666,\"#ed7953\"],[0.7777777777777778,\"#fb9f3a\"],[0.8888888888888888,\"#fdca26\"],[1.0,\"#f0f921\"]]}],\"contourcarpet\":[{\"type\":\"contourcarpet\",\"colorbar\":{\"outlinewidth\":0,\"ticks\":\"\"}}],\"contour\":[{\"type\":\"contour\",\"colorbar\":{\"outlinewidth\":0,\"ticks\":\"\"},\"colorscale\":[[0.0,\"#0d0887\"],[0.1111111111111111,\"#46039f\"],[0.2222222222222222,\"#7201a8\"],[0.3333333333333333,\"#9c179e\"],[0.4444444444444444,\"#bd3786\"],[0.5555555555555556,\"#d8576b\"],[0.6666666666666666,\"#ed7953\"],[0.7777777777777778,\"#fb9f3a\"],[0.8888888888888888,\"#fdca26\"],[1.0,\"#f0f921\"]]}],\"surface\":[{\"type\":\"surface\",\"colorbar\":{\"outlinewidth\":0,\"ticks\":\"\"},\"colorscale\":[[0.0,\"#0d0887\"],[0.1111111111111111,\"#46039f\"],[0.2222222222222222,\"#7201a8\"],[0.3333333333333333,\"#9c179e\"],[0.4444444444444444,\"#bd3786\"],[0.5555555555555556,\"#d8576b\"],[0.6666666666666666,\"#ed7953\"],[0.7777777777777778,\"#fb9f3a\"],[0.8888888888888888,\"#fdca26\"],[1.0,\"#f0f921\"]]}],\"mesh3d\":[{\"type\":\"mesh3d\",\"colorbar\":{\"outlinewidth\":0,\"ticks\":\"\"}}],\"scatter\":[{\"fillpattern\":{\"fillmode\":\"overlay\",\"size\":10,\"solidity\":0.2},\"type\":\"scatter\"}],\"parcoords\":[{\"type\":\"parcoords\",\"line\":{\"colorbar\":{\"outlinewidth\":0,\"ticks\":\"\"}}}],\"scatterpolargl\":[{\"type\":\"scatterpolargl\",\"marker\":{\"colorbar\":{\"outlinewidth\":0,\"ticks\":\"\"}}}],\"bar\":[{\"error_x\":{\"color\":\"#2a3f5f\"},\"error_y\":{\"color\":\"#2a3f5f\"},\"marker\":{\"line\":{\"color\":\"#E5ECF6\",\"width\":0.5},\"pattern\":{\"fillmode\":\"overlay\",\"size\":10,\"solidity\":0.2}},\"type\":\"bar\"}],\"scattergeo\":[{\"type\":\"scattergeo\",\"marker\":{\"colorbar\":{\"outlinewidth\":0,\"ticks\":\"\"}}}],\"scatterpolar\":[{\"type\":\"scatterpolar\",\"marker\":{\"colorbar\":{\"outlinewidth\":0,\"ticks\":\"\"}}}],\"histogram\":[{\"marker\":{\"pattern\":{\"fillmode\":\"overlay\",\"size\":10,\"solidity\":0.2}},\"type\":\"histogram\"}],\"scattergl\":[{\"type\":\"scattergl\",\"marker\":{\"colorbar\":{\"outlinewidth\":0,\"ticks\":\"\"}}}],\"scatter3d\":[{\"type\":\"scatter3d\",\"line\":{\"colorbar\":{\"outlinewidth\":0,\"ticks\":\"\"}},\"marker\":{\"colorbar\":{\"outlinewidth\":0,\"ticks\":\"\"}}}],\"scattermapbox\":[{\"type\":\"scattermapbox\",\"marker\":{\"colorbar\":{\"outlinewidth\":0,\"ticks\":\"\"}}}],\"scatterternary\":[{\"type\":\"scatterternary\",\"marker\":{\"colorbar\":{\"outlinewidth\":0,\"ticks\":\"\"}}}],\"scattercarpet\":[{\"type\":\"scattercarpet\",\"marker\":{\"colorbar\":{\"outlinewidth\":0,\"ticks\":\"\"}}}],\"carpet\":[{\"aaxis\":{\"endlinecolor\":\"#2a3f5f\",\"gridcolor\":\"white\",\"linecolor\":\"white\",\"minorgridcolor\":\"white\",\"startlinecolor\":\"#2a3f5f\"},\"baxis\":{\"endlinecolor\":\"#2a3f5f\",\"gridcolor\":\"white\",\"linecolor\":\"white\",\"minorgridcolor\":\"white\",\"startlinecolor\":\"#2a3f5f\"},\"type\":\"carpet\"}],\"table\":[{\"cells\":{\"fill\":{\"color\":\"#EBF0F8\"},\"line\":{\"color\":\"white\"}},\"header\":{\"fill\":{\"color\":\"#C8D4E3\"},\"line\":{\"color\":\"white\"}},\"type\":\"table\"}],\"barpolar\":[{\"marker\":{\"line\":{\"color\":\"#E5ECF6\",\"width\":0.5},\"pattern\":{\"fillmode\":\"overlay\",\"size\":10,\"solidity\":0.2}},\"type\":\"barpolar\"}],\"pie\":[{\"automargin\":true,\"type\":\"pie\"}]},\"layout\":{\"autotypenumbers\":\"strict\",\"colorway\":[\"#636efa\",\"#EF553B\",\"#00cc96\",\"#ab63fa\",\"#FFA15A\",\"#19d3f3\",\"#FF6692\",\"#B6E880\",\"#FF97FF\",\"#FECB52\"],\"font\":{\"color\":\"#2a3f5f\"},\"hovermode\":\"closest\",\"hoverlabel\":{\"align\":\"left\"},\"paper_bgcolor\":\"white\",\"plot_bgcolor\":\"#E5ECF6\",\"polar\":{\"bgcolor\":\"#E5ECF6\",\"angularaxis\":{\"gridcolor\":\"white\",\"linecolor\":\"white\",\"ticks\":\"\"},\"radialaxis\":{\"gridcolor\":\"white\",\"linecolor\":\"white\",\"ticks\":\"\"}},\"ternary\":{\"bgcolor\":\"#E5ECF6\",\"aaxis\":{\"gridcolor\":\"white\",\"linecolor\":\"white\",\"ticks\":\"\"},\"baxis\":{\"gridcolor\":\"white\",\"linecolor\":\"white\",\"ticks\":\"\"},\"caxis\":{\"gridcolor\":\"white\",\"linecolor\":\"white\",\"ticks\":\"\"}},\"coloraxis\":{\"colorbar\":{\"outlinewidth\":0,\"ticks\":\"\"}},\"colorscale\":{\"sequential\":[[0.0,\"#0d0887\"],[0.1111111111111111,\"#46039f\"],[0.2222222222222222,\"#7201a8\"],[0.3333333333333333,\"#9c179e\"],[0.4444444444444444,\"#bd3786\"],[0.5555555555555556,\"#d8576b\"],[0.6666666666666666,\"#ed7953\"],[0.7777777777777778,\"#fb9f3a\"],[0.8888888888888888,\"#fdca26\"],[1.0,\"#f0f921\"]],\"sequentialminus\":[[0.0,\"#0d0887\"],[0.1111111111111111,\"#46039f\"],[0.2222222222222222,\"#7201a8\"],[0.3333333333333333,\"#9c179e\"],[0.4444444444444444,\"#bd3786\"],[0.5555555555555556,\"#d8576b\"],[0.6666666666666666,\"#ed7953\"],[0.7777777777777778,\"#fb9f3a\"],[0.8888888888888888,\"#fdca26\"],[1.0,\"#f0f921\"]],\"diverging\":[[0,\"#8e0152\"],[0.1,\"#c51b7d\"],[0.2,\"#de77ae\"],[0.3,\"#f1b6da\"],[0.4,\"#fde0ef\"],[0.5,\"#f7f7f7\"],[0.6,\"#e6f5d0\"],[0.7,\"#b8e186\"],[0.8,\"#7fbc41\"],[0.9,\"#4d9221\"],[1,\"#276419\"]]},\"xaxis\":{\"gridcolor\":\"white\",\"linecolor\":\"white\",\"ticks\":\"\",\"title\":{\"standoff\":15},\"zerolinecolor\":\"white\",\"automargin\":true,\"zerolinewidth\":2},\"yaxis\":{\"gridcolor\":\"white\",\"linecolor\":\"white\",\"ticks\":\"\",\"title\":{\"standoff\":15},\"zerolinecolor\":\"white\",\"automargin\":true,\"zerolinewidth\":2},\"scene\":{\"xaxis\":{\"backgroundcolor\":\"#E5ECF6\",\"gridcolor\":\"white\",\"linecolor\":\"white\",\"showbackground\":true,\"ticks\":\"\",\"zerolinecolor\":\"white\",\"gridwidth\":2},\"yaxis\":{\"backgroundcolor\":\"#E5ECF6\",\"gridcolor\":\"white\",\"linecolor\":\"white\",\"showbackground\":true,\"ticks\":\"\",\"zerolinecolor\":\"white\",\"gridwidth\":2},\"zaxis\":{\"backgroundcolor\":\"#E5ECF6\",\"gridcolor\":\"white\",\"linecolor\":\"white\",\"showbackground\":true,\"ticks\":\"\",\"zerolinecolor\":\"white\",\"gridwidth\":2}},\"shapedefaults\":{\"line\":{\"color\":\"#2a3f5f\"}},\"annotationdefaults\":{\"arrowcolor\":\"#2a3f5f\",\"arrowhead\":0,\"arrowwidth\":1},\"geo\":{\"bgcolor\":\"white\",\"landcolor\":\"#E5ECF6\",\"subunitcolor\":\"white\",\"showland\":true,\"showlakes\":true,\"lakecolor\":\"white\"},\"title\":{\"x\":0.05},\"mapbox\":{\"style\":\"light\"}}},\"showlegend\":true,\"title\":{\"text\":\"Test loss vs. Threshold\"}},                        {\"responsive\": true}                    ).then(function(){\n",
              "                            \n",
              "var gd = document.getElementById('66b1e8c1-b909-421d-8aed-04c488077a61');\n",
              "var x = new MutationObserver(function (mutations, observer) {{\n",
              "        var display = window.getComputedStyle(gd).display;\n",
              "        if (!display || display === 'none') {{\n",
              "            console.log([gd, 'removed!']);\n",
              "            Plotly.purge(gd);\n",
              "            observer.disconnect();\n",
              "        }}\n",
              "}});\n",
              "\n",
              "// Listen for the removal of the full notebook cells\n",
              "var notebookContainer = gd.closest('#notebook-container');\n",
              "if (notebookContainer) {{\n",
              "    x.observe(notebookContainer, {childList: true});\n",
              "}}\n",
              "\n",
              "// Listen for the clearing of the current output cell\n",
              "var outputEl = gd.closest('.output');\n",
              "if (outputEl) {{\n",
              "    x.observe(outputEl, {childList: true});\n",
              "}}\n",
              "\n",
              "                        })                };                            </script>        </div>\n",
              "</body>\n",
              "</html>"
            ]
          },
          "metadata": {}
        }
      ],
      "source": [
        "fig = go.Figure()\n",
        "fig.add_trace(go.Scatter(x=anomaly_df['Date'], y=anomaly_df['loss'], name='Test loss'))\n",
        "fig.add_trace(go.Scatter(x=anomaly_df['Date'], y=anomaly_df['threshold'], name='Threshold'))\n",
        "fig.update_layout(showlegend=True, title='Test loss vs. Threshold')\n",
        "fig.show()"
      ]
    },
    {
      "cell_type": "code",
      "execution_count": null,
      "metadata": {
        "id": "1QmIa1RS3RLg",
        "colab": {
          "base_uri": "https://localhost:8080/",
          "height": 206
        },
        "outputId": "a9f9ed62-7324-401b-98b7-0e446430e861"
      },
      "outputs": [
        {
          "output_type": "execute_result",
          "data": {
            "text/plain": [
              "            Date        Close         loss   threshold  anomaly\n",
              "1175  2020-01-06  1186.637031   973.075421  967.248736     True\n",
              "1176  2020-01-13  1214.747969   982.367656  967.248736     True\n",
              "1177  2020-01-20  1221.417969   991.518489  967.248736     True\n",
              "1178  2020-01-27  1191.401016  1000.070656  967.248736     True\n",
              "1179  2020-02-03  1210.151016  1006.572424  967.248736     True"
            ],
            "text/html": [
              "\n",
              "  <div id=\"df-b6e090f5-da7a-401e-9ed3-77614b77f3f3\" class=\"colab-df-container\">\n",
              "    <div>\n",
              "<style scoped>\n",
              "    .dataframe tbody tr th:only-of-type {\n",
              "        vertical-align: middle;\n",
              "    }\n",
              "\n",
              "    .dataframe tbody tr th {\n",
              "        vertical-align: top;\n",
              "    }\n",
              "\n",
              "    .dataframe thead th {\n",
              "        text-align: right;\n",
              "    }\n",
              "</style>\n",
              "<table border=\"1\" class=\"dataframe\">\n",
              "  <thead>\n",
              "    <tr style=\"text-align: right;\">\n",
              "      <th></th>\n",
              "      <th>Date</th>\n",
              "      <th>Close</th>\n",
              "      <th>loss</th>\n",
              "      <th>threshold</th>\n",
              "      <th>anomaly</th>\n",
              "    </tr>\n",
              "  </thead>\n",
              "  <tbody>\n",
              "    <tr>\n",
              "      <th>1175</th>\n",
              "      <td>2020-01-06</td>\n",
              "      <td>1186.637031</td>\n",
              "      <td>973.075421</td>\n",
              "      <td>967.248736</td>\n",
              "      <td>True</td>\n",
              "    </tr>\n",
              "    <tr>\n",
              "      <th>1176</th>\n",
              "      <td>2020-01-13</td>\n",
              "      <td>1214.747969</td>\n",
              "      <td>982.367656</td>\n",
              "      <td>967.248736</td>\n",
              "      <td>True</td>\n",
              "    </tr>\n",
              "    <tr>\n",
              "      <th>1177</th>\n",
              "      <td>2020-01-20</td>\n",
              "      <td>1221.417969</td>\n",
              "      <td>991.518489</td>\n",
              "      <td>967.248736</td>\n",
              "      <td>True</td>\n",
              "    </tr>\n",
              "    <tr>\n",
              "      <th>1178</th>\n",
              "      <td>2020-01-27</td>\n",
              "      <td>1191.401016</td>\n",
              "      <td>1000.070656</td>\n",
              "      <td>967.248736</td>\n",
              "      <td>True</td>\n",
              "    </tr>\n",
              "    <tr>\n",
              "      <th>1179</th>\n",
              "      <td>2020-02-03</td>\n",
              "      <td>1210.151016</td>\n",
              "      <td>1006.572424</td>\n",
              "      <td>967.248736</td>\n",
              "      <td>True</td>\n",
              "    </tr>\n",
              "  </tbody>\n",
              "</table>\n",
              "</div>\n",
              "    <div class=\"colab-df-buttons\">\n",
              "\n",
              "  <div class=\"colab-df-container\">\n",
              "    <button class=\"colab-df-convert\" onclick=\"convertToInteractive('df-b6e090f5-da7a-401e-9ed3-77614b77f3f3')\"\n",
              "            title=\"Convert this dataframe to an interactive table.\"\n",
              "            style=\"display:none;\">\n",
              "\n",
              "  <svg xmlns=\"http://www.w3.org/2000/svg\" height=\"24px\" viewBox=\"0 -960 960 960\">\n",
              "    <path d=\"M120-120v-720h720v720H120Zm60-500h600v-160H180v160Zm220 220h160v-160H400v160Zm0 220h160v-160H400v160ZM180-400h160v-160H180v160Zm440 0h160v-160H620v160ZM180-180h160v-160H180v160Zm440 0h160v-160H620v160Z\"/>\n",
              "  </svg>\n",
              "    </button>\n",
              "\n",
              "  <style>\n",
              "    .colab-df-container {\n",
              "      display:flex;\n",
              "      gap: 12px;\n",
              "    }\n",
              "\n",
              "    .colab-df-convert {\n",
              "      background-color: #E8F0FE;\n",
              "      border: none;\n",
              "      border-radius: 50%;\n",
              "      cursor: pointer;\n",
              "      display: none;\n",
              "      fill: #1967D2;\n",
              "      height: 32px;\n",
              "      padding: 0 0 0 0;\n",
              "      width: 32px;\n",
              "    }\n",
              "\n",
              "    .colab-df-convert:hover {\n",
              "      background-color: #E2EBFA;\n",
              "      box-shadow: 0px 1px 2px rgba(60, 64, 67, 0.3), 0px 1px 3px 1px rgba(60, 64, 67, 0.15);\n",
              "      fill: #174EA6;\n",
              "    }\n",
              "\n",
              "    .colab-df-buttons div {\n",
              "      margin-bottom: 4px;\n",
              "    }\n",
              "\n",
              "    [theme=dark] .colab-df-convert {\n",
              "      background-color: #3B4455;\n",
              "      fill: #D2E3FC;\n",
              "    }\n",
              "\n",
              "    [theme=dark] .colab-df-convert:hover {\n",
              "      background-color: #434B5C;\n",
              "      box-shadow: 0px 1px 3px 1px rgba(0, 0, 0, 0.15);\n",
              "      filter: drop-shadow(0px 1px 2px rgba(0, 0, 0, 0.3));\n",
              "      fill: #FFFFFF;\n",
              "    }\n",
              "  </style>\n",
              "\n",
              "    <script>\n",
              "      const buttonEl =\n",
              "        document.querySelector('#df-b6e090f5-da7a-401e-9ed3-77614b77f3f3 button.colab-df-convert');\n",
              "      buttonEl.style.display =\n",
              "        google.colab.kernel.accessAllowed ? 'block' : 'none';\n",
              "\n",
              "      async function convertToInteractive(key) {\n",
              "        const element = document.querySelector('#df-b6e090f5-da7a-401e-9ed3-77614b77f3f3');\n",
              "        const dataTable =\n",
              "          await google.colab.kernel.invokeFunction('convertToInteractive',\n",
              "                                                    [key], {});\n",
              "        if (!dataTable) return;\n",
              "\n",
              "        const docLinkHtml = 'Like what you see? Visit the ' +\n",
              "          '<a target=\"_blank\" href=https://colab.research.google.com/notebooks/data_table.ipynb>data table notebook</a>'\n",
              "          + ' to learn more about interactive tables.';\n",
              "        element.innerHTML = '';\n",
              "        dataTable['output_type'] = 'display_data';\n",
              "        await google.colab.output.renderOutput(dataTable, element);\n",
              "        const docLink = document.createElement('div');\n",
              "        docLink.innerHTML = docLinkHtml;\n",
              "        element.appendChild(docLink);\n",
              "      }\n",
              "    </script>\n",
              "  </div>\n",
              "\n",
              "\n",
              "<div id=\"df-7965944b-c096-45c5-b51b-0d92886768f1\">\n",
              "  <button class=\"colab-df-quickchart\" onclick=\"quickchart('df-7965944b-c096-45c5-b51b-0d92886768f1')\"\n",
              "            title=\"Suggest charts\"\n",
              "            style=\"display:none;\">\n",
              "\n",
              "<svg xmlns=\"http://www.w3.org/2000/svg\" height=\"24px\"viewBox=\"0 0 24 24\"\n",
              "     width=\"24px\">\n",
              "    <g>\n",
              "        <path d=\"M19 3H5c-1.1 0-2 .9-2 2v14c0 1.1.9 2 2 2h14c1.1 0 2-.9 2-2V5c0-1.1-.9-2-2-2zM9 17H7v-7h2v7zm4 0h-2V7h2v10zm4 0h-2v-4h2v4z\"/>\n",
              "    </g>\n",
              "</svg>\n",
              "  </button>\n",
              "\n",
              "<style>\n",
              "  .colab-df-quickchart {\n",
              "      --bg-color: #E8F0FE;\n",
              "      --fill-color: #1967D2;\n",
              "      --hover-bg-color: #E2EBFA;\n",
              "      --hover-fill-color: #174EA6;\n",
              "      --disabled-fill-color: #AAA;\n",
              "      --disabled-bg-color: #DDD;\n",
              "  }\n",
              "\n",
              "  [theme=dark] .colab-df-quickchart {\n",
              "      --bg-color: #3B4455;\n",
              "      --fill-color: #D2E3FC;\n",
              "      --hover-bg-color: #434B5C;\n",
              "      --hover-fill-color: #FFFFFF;\n",
              "      --disabled-bg-color: #3B4455;\n",
              "      --disabled-fill-color: #666;\n",
              "  }\n",
              "\n",
              "  .colab-df-quickchart {\n",
              "    background-color: var(--bg-color);\n",
              "    border: none;\n",
              "    border-radius: 50%;\n",
              "    cursor: pointer;\n",
              "    display: none;\n",
              "    fill: var(--fill-color);\n",
              "    height: 32px;\n",
              "    padding: 0;\n",
              "    width: 32px;\n",
              "  }\n",
              "\n",
              "  .colab-df-quickchart:hover {\n",
              "    background-color: var(--hover-bg-color);\n",
              "    box-shadow: 0 1px 2px rgba(60, 64, 67, 0.3), 0 1px 3px 1px rgba(60, 64, 67, 0.15);\n",
              "    fill: var(--button-hover-fill-color);\n",
              "  }\n",
              "\n",
              "  .colab-df-quickchart-complete:disabled,\n",
              "  .colab-df-quickchart-complete:disabled:hover {\n",
              "    background-color: var(--disabled-bg-color);\n",
              "    fill: var(--disabled-fill-color);\n",
              "    box-shadow: none;\n",
              "  }\n",
              "\n",
              "  .colab-df-spinner {\n",
              "    border: 2px solid var(--fill-color);\n",
              "    border-color: transparent;\n",
              "    border-bottom-color: var(--fill-color);\n",
              "    animation:\n",
              "      spin 1s steps(1) infinite;\n",
              "  }\n",
              "\n",
              "  @keyframes spin {\n",
              "    0% {\n",
              "      border-color: transparent;\n",
              "      border-bottom-color: var(--fill-color);\n",
              "      border-left-color: var(--fill-color);\n",
              "    }\n",
              "    20% {\n",
              "      border-color: transparent;\n",
              "      border-left-color: var(--fill-color);\n",
              "      border-top-color: var(--fill-color);\n",
              "    }\n",
              "    30% {\n",
              "      border-color: transparent;\n",
              "      border-left-color: var(--fill-color);\n",
              "      border-top-color: var(--fill-color);\n",
              "      border-right-color: var(--fill-color);\n",
              "    }\n",
              "    40% {\n",
              "      border-color: transparent;\n",
              "      border-right-color: var(--fill-color);\n",
              "      border-top-color: var(--fill-color);\n",
              "    }\n",
              "    60% {\n",
              "      border-color: transparent;\n",
              "      border-right-color: var(--fill-color);\n",
              "    }\n",
              "    80% {\n",
              "      border-color: transparent;\n",
              "      border-right-color: var(--fill-color);\n",
              "      border-bottom-color: var(--fill-color);\n",
              "    }\n",
              "    90% {\n",
              "      border-color: transparent;\n",
              "      border-bottom-color: var(--fill-color);\n",
              "    }\n",
              "  }\n",
              "</style>\n",
              "\n",
              "  <script>\n",
              "    async function quickchart(key) {\n",
              "      const quickchartButtonEl =\n",
              "        document.querySelector('#' + key + ' button');\n",
              "      quickchartButtonEl.disabled = true;  // To prevent multiple clicks.\n",
              "      quickchartButtonEl.classList.add('colab-df-spinner');\n",
              "      try {\n",
              "        const charts = await google.colab.kernel.invokeFunction(\n",
              "            'suggestCharts', [key], {});\n",
              "      } catch (error) {\n",
              "        console.error('Error during call to suggestCharts:', error);\n",
              "      }\n",
              "      quickchartButtonEl.classList.remove('colab-df-spinner');\n",
              "      quickchartButtonEl.classList.add('colab-df-quickchart-complete');\n",
              "    }\n",
              "    (() => {\n",
              "      let quickchartButtonEl =\n",
              "        document.querySelector('#df-7965944b-c096-45c5-b51b-0d92886768f1 button');\n",
              "      quickchartButtonEl.style.display =\n",
              "        google.colab.kernel.accessAllowed ? 'block' : 'none';\n",
              "    })();\n",
              "  </script>\n",
              "</div>\n",
              "\n",
              "    </div>\n",
              "  </div>\n"
            ]
          },
          "metadata": {},
          "execution_count": 89
        }
      ],
      "source": [
        "anomalies = anomaly_df.loc[anomaly_df['anomaly'] == True]\n",
        "anomalies.head()"
      ]
    },
    {
      "cell_type": "code",
      "execution_count": null,
      "metadata": {
        "id": "cZ9RwZs83RLj",
        "colab": {
          "base_uri": "https://localhost:8080/"
        },
        "outputId": "8e26aea9-db20-40bd-dc9c-e83ad0cc6511"
      },
      "outputs": [
        {
          "output_type": "execute_result",
          "data": {
            "text/plain": [
              "(44, 5)"
            ]
          },
          "metadata": {},
          "execution_count": 90
        }
      ],
      "source": [
        "anomalies.shape"
      ]
    },
    {
      "cell_type": "code",
      "execution_count": null,
      "metadata": {
        "id": "UnsAxbIi3RLk",
        "outputId": "10514191-1bfc-483a-e824-06f1b9940112",
        "colab": {
          "base_uri": "https://localhost:8080/",
          "height": 542
        }
      },
      "outputs": [
        {
          "output_type": "display_data",
          "data": {
            "text/html": [
              "<html>\n",
              "<head><meta charset=\"utf-8\" /></head>\n",
              "<body>\n",
              "    <div>            <script src=\"https://cdnjs.cloudflare.com/ajax/libs/mathjax/2.7.5/MathJax.js?config=TeX-AMS-MML_SVG\"></script><script type=\"text/javascript\">if (window.MathJax && window.MathJax.Hub && window.MathJax.Hub.Config) {window.MathJax.Hub.Config({SVG: {font: \"STIX-Web\"}});}</script>                <script type=\"text/javascript\">window.PlotlyConfig = {MathJaxConfig: 'local'};</script>\n",
              "        <script charset=\"utf-8\" src=\"https://cdn.plot.ly/plotly-2.24.1.min.js\"></script>                <div id=\"fa8a0d23-fcdd-45b8-a5b6-d2996b2442f7\" class=\"plotly-graph-div\" style=\"height:525px; width:100%;\"></div>            <script type=\"text/javascript\">                                    window.PLOTLYENV=window.PLOTLYENV || {};                                    if (document.getElementById(\"fa8a0d23-fcdd-45b8-a5b6-d2996b2442f7\")) {                    Plotly.newPlot(                        \"fa8a0d23-fcdd-45b8-a5b6-d2996b2442f7\",                        [{\"name\":\"Close price\",\"x\":[\"2019-01-28\",\"2019-02-04\",\"2019-02-11\",\"2019-02-18\",\"2019-02-25\",\"2019-03-04\",\"2019-03-11\",\"2019-03-18\",\"2019-03-25\",\"2019-04-01\",\"2019-04-08\",\"2019-04-15\",\"2019-04-22\",\"2019-04-29\",\"2019-05-06\",\"2019-05-13\",\"2019-05-20\",\"2019-05-27\",\"2019-06-03\",\"2019-06-10\",\"2019-06-17\",\"2019-06-24\",\"2019-07-01\",\"2019-07-08\",\"2019-07-15\",\"2019-07-22\",\"2019-07-29\",\"2019-08-05\",\"2019-08-12\",\"2019-08-19\",\"2019-08-26\",\"2019-09-02\",\"2019-09-09\",\"2019-09-16\",\"2019-09-23\",\"2019-09-30\",\"2019-10-07\",\"2019-10-14\",\"2019-10-21\",\"2019-10-28\",\"2019-11-04\",\"2019-11-11\",\"2019-11-18\",\"2019-11-25\",\"2019-12-02\",\"2019-12-09\",\"2019-12-16\",\"2019-12-23\",\"2019-12-30\",\"2020-01-06\",\"2020-01-13\",\"2020-01-20\",\"2020-01-27\",\"2020-02-03\",\"2020-02-10\",\"2020-02-17\",\"2020-02-24\",\"2020-03-02\",\"2020-03-09\",\"2020-03-16\",\"2020-03-23\",\"2020-03-30\",\"2020-04-06\",\"2020-04-13\",\"2020-04-20\",\"2020-04-27\",\"2020-05-04\",\"2020-05-11\",\"2020-05-18\",\"2020-05-25\",\"2020-06-01\",\"2020-06-08\",\"2020-06-15\",\"2020-06-22\",\"2020-06-29\",\"2020-07-06\",\"2020-07-13\",\"2020-07-20\",\"2020-07-27\",\"2020-08-03\",\"2020-08-10\",\"2020-08-17\",\"2020-08-24\",\"2020-08-31\",\"2020-09-07\",\"2020-09-14\",\"2020-09-21\",\"2020-09-28\",\"2020-10-05\",\"2020-10-12\",\"2020-10-19\",\"2020-10-26\",\"2020-11-02\"],\"y\":[2933.217946068297,2919.405828734027,2926.8979981489742,2940.2919571796115,2942.5939396961166,2893.4146567169987,2943.6610102910886,2844.95542409734,2672.7702452161825,2815.0234270034834,2735.1609736786954,2760.3325021091887,2701.194115897601,2677.3771002178273,2523.3574643778234,2473.9223067765133,2453.3262881347096,2581.8700581325074,2673.4787356441966,2587.4841833003034,2679.545254268758,2749.6304509465144,2839.2501533162235,2767.0734982723225,2902.2615611748115,2930.3753144503385,2840.5193004193457,2832.711233632785,2728.257916154723,2768.516266639274,2756.266296208996,2820.8311810087644,2937.050730247384,2856.3775255910186,2996.2491391799394,2948.196727224614,2821.9778372856113,2804.5490175677364,2855.7884137000447,2805.89797264488,2939.367162663969,3002.7227007894353,3037.116386836974,3046.0884497690945,3102.014286584923,3147.7560460893865,3167.6802548406495,3239.0119233713854,3239.023260982229,3380.7217883522912,3460.712067827874,3479.6916968104415,3394.2778087437673,3447.6313384923637,3423.0544796264207,3328.526252519841,3020.1942033311093,3122.826386993753,2724.5871933080193,2445.4584209477835,2511.7363986652294,2552.3591093109167,2749.2236302821816,2797.847814231313,2814.329164183402,2881.2302666812643,2788.326876847676,2843.0462569578362,2935.6991074937528,3006.729106260807,3134.8144805155143,3129.5133627222435,3236.9715954712497,3267.034531033592,3297.769054137417,3271.024041220543,3384.2046623272327,3396.0278045195214,3210.738844704025,3022.080626927952,3088.0969354599574,3162.3649777319642,3135.901490391624,3095.210739426437,3141.8770145854273,3168.3405047712886,3203.055728697151,3262.242717128818,3321.144874540711,3397.97395737869,3391.998433184887,3169.4787816984435,3395.9822316986333],\"type\":\"scatter\"},{\"mode\":\"markers\",\"name\":\"Anomaly\",\"x\":[\"2020-01-06\",\"2020-01-13\",\"2020-01-20\",\"2020-01-27\",\"2020-02-03\",\"2020-02-10\",\"2020-02-17\",\"2020-02-24\",\"2020-03-02\",\"2020-03-09\",\"2020-03-16\",\"2020-03-23\",\"2020-03-30\",\"2020-04-06\",\"2020-04-13\",\"2020-04-20\",\"2020-04-27\",\"2020-05-04\",\"2020-05-11\",\"2020-05-18\",\"2020-05-25\",\"2020-06-01\",\"2020-06-08\",\"2020-06-15\",\"2020-06-22\",\"2020-06-29\",\"2020-07-06\",\"2020-07-13\",\"2020-07-20\",\"2020-07-27\",\"2020-08-03\",\"2020-08-10\",\"2020-08-17\",\"2020-08-24\",\"2020-08-31\",\"2020-09-07\",\"2020-09-14\",\"2020-09-21\",\"2020-09-28\",\"2020-10-05\",\"2020-10-12\",\"2020-10-19\",\"2020-10-26\",\"2020-11-02\"],\"y\":[3380.7217883522912,3460.712067827874,3479.6916968104415,3394.2778087437673,3447.6313384923637,3423.0544796264207,3328.526252519841,3020.1942033311093,3122.826386993753,2724.5871933080193,2445.4584209477835,2511.7363986652294,2552.3591093109167,2749.2236302821816,2797.847814231313,2814.329164183402,2881.2302666812643,2788.326876847676,2843.0462569578362,2935.6991074937528,3006.729106260807,3134.8144805155143,3129.5133627222435,3236.9715954712497,3267.034531033592,3297.769054137417,3271.024041220543,3384.2046623272327,3396.0278045195214,3210.738844704025,3022.080626927952,3088.0969354599574,3162.3649777319642,3135.901490391624,3095.210739426437,3141.8770145854273,3168.3405047712886,3203.055728697151,3262.242717128818,3321.144874540711,3397.97395737869,3391.998433184887,3169.4787816984435,3395.9822316986333],\"type\":\"scatter\"}],                        {\"template\":{\"data\":{\"histogram2dcontour\":[{\"type\":\"histogram2dcontour\",\"colorbar\":{\"outlinewidth\":0,\"ticks\":\"\"},\"colorscale\":[[0.0,\"#0d0887\"],[0.1111111111111111,\"#46039f\"],[0.2222222222222222,\"#7201a8\"],[0.3333333333333333,\"#9c179e\"],[0.4444444444444444,\"#bd3786\"],[0.5555555555555556,\"#d8576b\"],[0.6666666666666666,\"#ed7953\"],[0.7777777777777778,\"#fb9f3a\"],[0.8888888888888888,\"#fdca26\"],[1.0,\"#f0f921\"]]}],\"choropleth\":[{\"type\":\"choropleth\",\"colorbar\":{\"outlinewidth\":0,\"ticks\":\"\"}}],\"histogram2d\":[{\"type\":\"histogram2d\",\"colorbar\":{\"outlinewidth\":0,\"ticks\":\"\"},\"colorscale\":[[0.0,\"#0d0887\"],[0.1111111111111111,\"#46039f\"],[0.2222222222222222,\"#7201a8\"],[0.3333333333333333,\"#9c179e\"],[0.4444444444444444,\"#bd3786\"],[0.5555555555555556,\"#d8576b\"],[0.6666666666666666,\"#ed7953\"],[0.7777777777777778,\"#fb9f3a\"],[0.8888888888888888,\"#fdca26\"],[1.0,\"#f0f921\"]]}],\"heatmap\":[{\"type\":\"heatmap\",\"colorbar\":{\"outlinewidth\":0,\"ticks\":\"\"},\"colorscale\":[[0.0,\"#0d0887\"],[0.1111111111111111,\"#46039f\"],[0.2222222222222222,\"#7201a8\"],[0.3333333333333333,\"#9c179e\"],[0.4444444444444444,\"#bd3786\"],[0.5555555555555556,\"#d8576b\"],[0.6666666666666666,\"#ed7953\"],[0.7777777777777778,\"#fb9f3a\"],[0.8888888888888888,\"#fdca26\"],[1.0,\"#f0f921\"]]}],\"heatmapgl\":[{\"type\":\"heatmapgl\",\"colorbar\":{\"outlinewidth\":0,\"ticks\":\"\"},\"colorscale\":[[0.0,\"#0d0887\"],[0.1111111111111111,\"#46039f\"],[0.2222222222222222,\"#7201a8\"],[0.3333333333333333,\"#9c179e\"],[0.4444444444444444,\"#bd3786\"],[0.5555555555555556,\"#d8576b\"],[0.6666666666666666,\"#ed7953\"],[0.7777777777777778,\"#fb9f3a\"],[0.8888888888888888,\"#fdca26\"],[1.0,\"#f0f921\"]]}],\"contourcarpet\":[{\"type\":\"contourcarpet\",\"colorbar\":{\"outlinewidth\":0,\"ticks\":\"\"}}],\"contour\":[{\"type\":\"contour\",\"colorbar\":{\"outlinewidth\":0,\"ticks\":\"\"},\"colorscale\":[[0.0,\"#0d0887\"],[0.1111111111111111,\"#46039f\"],[0.2222222222222222,\"#7201a8\"],[0.3333333333333333,\"#9c179e\"],[0.4444444444444444,\"#bd3786\"],[0.5555555555555556,\"#d8576b\"],[0.6666666666666666,\"#ed7953\"],[0.7777777777777778,\"#fb9f3a\"],[0.8888888888888888,\"#fdca26\"],[1.0,\"#f0f921\"]]}],\"surface\":[{\"type\":\"surface\",\"colorbar\":{\"outlinewidth\":0,\"ticks\":\"\"},\"colorscale\":[[0.0,\"#0d0887\"],[0.1111111111111111,\"#46039f\"],[0.2222222222222222,\"#7201a8\"],[0.3333333333333333,\"#9c179e\"],[0.4444444444444444,\"#bd3786\"],[0.5555555555555556,\"#d8576b\"],[0.6666666666666666,\"#ed7953\"],[0.7777777777777778,\"#fb9f3a\"],[0.8888888888888888,\"#fdca26\"],[1.0,\"#f0f921\"]]}],\"mesh3d\":[{\"type\":\"mesh3d\",\"colorbar\":{\"outlinewidth\":0,\"ticks\":\"\"}}],\"scatter\":[{\"fillpattern\":{\"fillmode\":\"overlay\",\"size\":10,\"solidity\":0.2},\"type\":\"scatter\"}],\"parcoords\":[{\"type\":\"parcoords\",\"line\":{\"colorbar\":{\"outlinewidth\":0,\"ticks\":\"\"}}}],\"scatterpolargl\":[{\"type\":\"scatterpolargl\",\"marker\":{\"colorbar\":{\"outlinewidth\":0,\"ticks\":\"\"}}}],\"bar\":[{\"error_x\":{\"color\":\"#2a3f5f\"},\"error_y\":{\"color\":\"#2a3f5f\"},\"marker\":{\"line\":{\"color\":\"#E5ECF6\",\"width\":0.5},\"pattern\":{\"fillmode\":\"overlay\",\"size\":10,\"solidity\":0.2}},\"type\":\"bar\"}],\"scattergeo\":[{\"type\":\"scattergeo\",\"marker\":{\"colorbar\":{\"outlinewidth\":0,\"ticks\":\"\"}}}],\"scatterpolar\":[{\"type\":\"scatterpolar\",\"marker\":{\"colorbar\":{\"outlinewidth\":0,\"ticks\":\"\"}}}],\"histogram\":[{\"marker\":{\"pattern\":{\"fillmode\":\"overlay\",\"size\":10,\"solidity\":0.2}},\"type\":\"histogram\"}],\"scattergl\":[{\"type\":\"scattergl\",\"marker\":{\"colorbar\":{\"outlinewidth\":0,\"ticks\":\"\"}}}],\"scatter3d\":[{\"type\":\"scatter3d\",\"line\":{\"colorbar\":{\"outlinewidth\":0,\"ticks\":\"\"}},\"marker\":{\"colorbar\":{\"outlinewidth\":0,\"ticks\":\"\"}}}],\"scattermapbox\":[{\"type\":\"scattermapbox\",\"marker\":{\"colorbar\":{\"outlinewidth\":0,\"ticks\":\"\"}}}],\"scatterternary\":[{\"type\":\"scatterternary\",\"marker\":{\"colorbar\":{\"outlinewidth\":0,\"ticks\":\"\"}}}],\"scattercarpet\":[{\"type\":\"scattercarpet\",\"marker\":{\"colorbar\":{\"outlinewidth\":0,\"ticks\":\"\"}}}],\"carpet\":[{\"aaxis\":{\"endlinecolor\":\"#2a3f5f\",\"gridcolor\":\"white\",\"linecolor\":\"white\",\"minorgridcolor\":\"white\",\"startlinecolor\":\"#2a3f5f\"},\"baxis\":{\"endlinecolor\":\"#2a3f5f\",\"gridcolor\":\"white\",\"linecolor\":\"white\",\"minorgridcolor\":\"white\",\"startlinecolor\":\"#2a3f5f\"},\"type\":\"carpet\"}],\"table\":[{\"cells\":{\"fill\":{\"color\":\"#EBF0F8\"},\"line\":{\"color\":\"white\"}},\"header\":{\"fill\":{\"color\":\"#C8D4E3\"},\"line\":{\"color\":\"white\"}},\"type\":\"table\"}],\"barpolar\":[{\"marker\":{\"line\":{\"color\":\"#E5ECF6\",\"width\":0.5},\"pattern\":{\"fillmode\":\"overlay\",\"size\":10,\"solidity\":0.2}},\"type\":\"barpolar\"}],\"pie\":[{\"automargin\":true,\"type\":\"pie\"}]},\"layout\":{\"autotypenumbers\":\"strict\",\"colorway\":[\"#636efa\",\"#EF553B\",\"#00cc96\",\"#ab63fa\",\"#FFA15A\",\"#19d3f3\",\"#FF6692\",\"#B6E880\",\"#FF97FF\",\"#FECB52\"],\"font\":{\"color\":\"#2a3f5f\"},\"hovermode\":\"closest\",\"hoverlabel\":{\"align\":\"left\"},\"paper_bgcolor\":\"white\",\"plot_bgcolor\":\"#E5ECF6\",\"polar\":{\"bgcolor\":\"#E5ECF6\",\"angularaxis\":{\"gridcolor\":\"white\",\"linecolor\":\"white\",\"ticks\":\"\"},\"radialaxis\":{\"gridcolor\":\"white\",\"linecolor\":\"white\",\"ticks\":\"\"}},\"ternary\":{\"bgcolor\":\"#E5ECF6\",\"aaxis\":{\"gridcolor\":\"white\",\"linecolor\":\"white\",\"ticks\":\"\"},\"baxis\":{\"gridcolor\":\"white\",\"linecolor\":\"white\",\"ticks\":\"\"},\"caxis\":{\"gridcolor\":\"white\",\"linecolor\":\"white\",\"ticks\":\"\"}},\"coloraxis\":{\"colorbar\":{\"outlinewidth\":0,\"ticks\":\"\"}},\"colorscale\":{\"sequential\":[[0.0,\"#0d0887\"],[0.1111111111111111,\"#46039f\"],[0.2222222222222222,\"#7201a8\"],[0.3333333333333333,\"#9c179e\"],[0.4444444444444444,\"#bd3786\"],[0.5555555555555556,\"#d8576b\"],[0.6666666666666666,\"#ed7953\"],[0.7777777777777778,\"#fb9f3a\"],[0.8888888888888888,\"#fdca26\"],[1.0,\"#f0f921\"]],\"sequentialminus\":[[0.0,\"#0d0887\"],[0.1111111111111111,\"#46039f\"],[0.2222222222222222,\"#7201a8\"],[0.3333333333333333,\"#9c179e\"],[0.4444444444444444,\"#bd3786\"],[0.5555555555555556,\"#d8576b\"],[0.6666666666666666,\"#ed7953\"],[0.7777777777777778,\"#fb9f3a\"],[0.8888888888888888,\"#fdca26\"],[1.0,\"#f0f921\"]],\"diverging\":[[0,\"#8e0152\"],[0.1,\"#c51b7d\"],[0.2,\"#de77ae\"],[0.3,\"#f1b6da\"],[0.4,\"#fde0ef\"],[0.5,\"#f7f7f7\"],[0.6,\"#e6f5d0\"],[0.7,\"#b8e186\"],[0.8,\"#7fbc41\"],[0.9,\"#4d9221\"],[1,\"#276419\"]]},\"xaxis\":{\"gridcolor\":\"white\",\"linecolor\":\"white\",\"ticks\":\"\",\"title\":{\"standoff\":15},\"zerolinecolor\":\"white\",\"automargin\":true,\"zerolinewidth\":2},\"yaxis\":{\"gridcolor\":\"white\",\"linecolor\":\"white\",\"ticks\":\"\",\"title\":{\"standoff\":15},\"zerolinecolor\":\"white\",\"automargin\":true,\"zerolinewidth\":2},\"scene\":{\"xaxis\":{\"backgroundcolor\":\"#E5ECF6\",\"gridcolor\":\"white\",\"linecolor\":\"white\",\"showbackground\":true,\"ticks\":\"\",\"zerolinecolor\":\"white\",\"gridwidth\":2},\"yaxis\":{\"backgroundcolor\":\"#E5ECF6\",\"gridcolor\":\"white\",\"linecolor\":\"white\",\"showbackground\":true,\"ticks\":\"\",\"zerolinecolor\":\"white\",\"gridwidth\":2},\"zaxis\":{\"backgroundcolor\":\"#E5ECF6\",\"gridcolor\":\"white\",\"linecolor\":\"white\",\"showbackground\":true,\"ticks\":\"\",\"zerolinecolor\":\"white\",\"gridwidth\":2}},\"shapedefaults\":{\"line\":{\"color\":\"#2a3f5f\"}},\"annotationdefaults\":{\"arrowcolor\":\"#2a3f5f\",\"arrowhead\":0,\"arrowwidth\":1},\"geo\":{\"bgcolor\":\"white\",\"landcolor\":\"#E5ECF6\",\"subunitcolor\":\"white\",\"showland\":true,\"showlakes\":true,\"lakecolor\":\"white\"},\"title\":{\"x\":0.05},\"mapbox\":{\"style\":\"light\"}}},\"showlegend\":true,\"title\":{\"text\":\"Detected anomalies\"}},                        {\"responsive\": true}                    ).then(function(){\n",
              "                            \n",
              "var gd = document.getElementById('fa8a0d23-fcdd-45b8-a5b6-d2996b2442f7');\n",
              "var x = new MutationObserver(function (mutations, observer) {{\n",
              "        var display = window.getComputedStyle(gd).display;\n",
              "        if (!display || display === 'none') {{\n",
              "            console.log([gd, 'removed!']);\n",
              "            Plotly.purge(gd);\n",
              "            observer.disconnect();\n",
              "        }}\n",
              "}});\n",
              "\n",
              "// Listen for the removal of the full notebook cells\n",
              "var notebookContainer = gd.closest('#notebook-container');\n",
              "if (notebookContainer) {{\n",
              "    x.observe(notebookContainer, {childList: true});\n",
              "}}\n",
              "\n",
              "// Listen for the clearing of the current output cell\n",
              "var outputEl = gd.closest('.output');\n",
              "if (outputEl) {{\n",
              "    x.observe(outputEl, {childList: true});\n",
              "}}\n",
              "\n",
              "                        })                };                            </script>        </div>\n",
              "</body>\n",
              "</html>"
            ]
          },
          "metadata": {}
        }
      ],
      "source": [
        "if anomalies.shape[0]:\n",
        "  fig = go.Figure()\n",
        "  fig.add_trace(go.Scatter(x=anomaly_df['Date'], y=scaler.inverse_transform(anomaly_df['Close'].values.reshape(-1, 1)).flatten(), name='Close price'))\n",
        "  fig.add_trace(go.Scatter(x=anomalies['Date'], y=scaler.inverse_transform(anomalies['Close'].values.reshape(-1, 1)).flatten(), mode='markers', name='Anomaly'))\n",
        "  fig.update_layout(showlegend=True, title='Detected anomalies')\n",
        "  fig.show()"
      ]
    },
    {
      "cell_type": "markdown",
      "source": [
        "### Anomaly Detection with Library"
      ],
      "metadata": {
        "id": "KVErywZsnF1K"
      }
    },
    {
      "cell_type": "code",
      "source": [
        "!pip install adtk\n",
        "from adtk.data import validate_series\n",
        "from adtk.visualization import plot\n",
        "from adtk.detector import PersistAD"
      ],
      "metadata": {
        "colab": {
          "base_uri": "https://localhost:8080/"
        },
        "id": "JRFDXsEJkQkd",
        "outputId": "0a43b87e-99c1-442c-a97a-0e8db286981a"
      },
      "execution_count": null,
      "outputs": [
        {
          "output_type": "stream",
          "name": "stdout",
          "text": [
            "Requirement already satisfied: adtk in /usr/local/lib/python3.10/dist-packages (0.6.2)\n",
            "Requirement already satisfied: numpy>=1.15 in /usr/local/lib/python3.10/dist-packages (from adtk) (1.23.5)\n",
            "Requirement already satisfied: pandas>=0.23 in /usr/local/lib/python3.10/dist-packages (from adtk) (1.5.3)\n",
            "Requirement already satisfied: matplotlib>=3.0 in /usr/local/lib/python3.10/dist-packages (from adtk) (3.7.1)\n",
            "Requirement already satisfied: scikit-learn>=0.20 in /usr/local/lib/python3.10/dist-packages (from adtk) (1.2.2)\n",
            "Requirement already satisfied: statsmodels>=0.9 in /usr/local/lib/python3.10/dist-packages (from adtk) (0.14.1)\n",
            "Requirement already satisfied: packaging>=17.0 in /usr/local/lib/python3.10/dist-packages (from adtk) (23.2)\n",
            "Requirement already satisfied: tabulate>=0.8 in /usr/local/lib/python3.10/dist-packages (from adtk) (0.9.0)\n",
            "Requirement already satisfied: contourpy>=1.0.1 in /usr/local/lib/python3.10/dist-packages (from matplotlib>=3.0->adtk) (1.2.0)\n",
            "Requirement already satisfied: cycler>=0.10 in /usr/local/lib/python3.10/dist-packages (from matplotlib>=3.0->adtk) (0.12.1)\n",
            "Requirement already satisfied: fonttools>=4.22.0 in /usr/local/lib/python3.10/dist-packages (from matplotlib>=3.0->adtk) (4.47.2)\n",
            "Requirement already satisfied: kiwisolver>=1.0.1 in /usr/local/lib/python3.10/dist-packages (from matplotlib>=3.0->adtk) (1.4.5)\n",
            "Requirement already satisfied: pillow>=6.2.0 in /usr/local/lib/python3.10/dist-packages (from matplotlib>=3.0->adtk) (9.4.0)\n",
            "Requirement already satisfied: pyparsing>=2.3.1 in /usr/local/lib/python3.10/dist-packages (from matplotlib>=3.0->adtk) (3.1.1)\n",
            "Requirement already satisfied: python-dateutil>=2.7 in /usr/local/lib/python3.10/dist-packages (from matplotlib>=3.0->adtk) (2.8.2)\n",
            "Requirement already satisfied: pytz>=2020.1 in /usr/local/lib/python3.10/dist-packages (from pandas>=0.23->adtk) (2023.3.post1)\n",
            "Requirement already satisfied: scipy>=1.3.2 in /usr/local/lib/python3.10/dist-packages (from scikit-learn>=0.20->adtk) (1.11.4)\n",
            "Requirement already satisfied: joblib>=1.1.1 in /usr/local/lib/python3.10/dist-packages (from scikit-learn>=0.20->adtk) (1.3.2)\n",
            "Requirement already satisfied: threadpoolctl>=2.0.0 in /usr/local/lib/python3.10/dist-packages (from scikit-learn>=0.20->adtk) (3.2.0)\n",
            "Requirement already satisfied: patsy>=0.5.4 in /usr/local/lib/python3.10/dist-packages (from statsmodels>=0.9->adtk) (0.5.6)\n",
            "Requirement already satisfied: six in /usr/local/lib/python3.10/dist-packages (from patsy>=0.5.4->statsmodels>=0.9->adtk) (1.16.0)\n"
          ]
        }
      ]
    },
    {
      "cell_type": "code",
      "source": [
        "data = pd.read_csv('XU100.IS2.csv')\n",
        "\n",
        "data = data.dropna()\n",
        "data.loc[:1203, 'Open'] = data.loc[:1203, 'Open'] / 100\n",
        "data.loc[:1203, 'High'] = data.loc[:1203, 'High'] / 100\n",
        "data.loc[:1203, 'Low'] = data.loc[:1203, 'Low'] / 100\n",
        "data.loc[:1203, 'Close'] = data.loc[:1203, 'Close'] / 100\n",
        "data.loc[:1203, 'Adj Close'] = data.loc[:1203, 'Adj Close'] / 100\n",
        "data = data.loc[data['Date'] < '2020-12-31']\n",
        "\n",
        "open_data = data[['Date','Open']]\n",
        "open_data = open_data.set_index('Date')\n",
        "open_data.index = pd.to_datetime(open_data.index)\n",
        "open_data"
      ],
      "metadata": {
        "colab": {
          "base_uri": "https://localhost:8080/",
          "height": 455
        },
        "id": "I9pFVkvakg2C",
        "outputId": "78cb4c11-a712-4e20-fc04-3ef96743f059"
      },
      "execution_count": null,
      "outputs": [
        {
          "output_type": "execute_result",
          "data": {
            "text/plain": [
              "                   Open\n",
              "Date                   \n",
              "1997-06-30    18.570000\n",
              "1997-07-07    19.180000\n",
              "1997-07-14    20.270000\n",
              "1997-07-21    20.100000\n",
              "1997-07-28    18.890000\n",
              "...                 ...\n",
              "2020-11-30  1314.400024\n",
              "2020-12-07  1330.000000\n",
              "2020-12-14  1378.199951\n",
              "2020-12-21  1401.699951\n",
              "2020-12-28  1431.699951\n",
              "\n",
              "[1218 rows x 1 columns]"
            ],
            "text/html": [
              "\n",
              "  <div id=\"df-3be929a2-51c2-4b5a-8d10-862b17dbbbff\" class=\"colab-df-container\">\n",
              "    <div>\n",
              "<style scoped>\n",
              "    .dataframe tbody tr th:only-of-type {\n",
              "        vertical-align: middle;\n",
              "    }\n",
              "\n",
              "    .dataframe tbody tr th {\n",
              "        vertical-align: top;\n",
              "    }\n",
              "\n",
              "    .dataframe thead th {\n",
              "        text-align: right;\n",
              "    }\n",
              "</style>\n",
              "<table border=\"1\" class=\"dataframe\">\n",
              "  <thead>\n",
              "    <tr style=\"text-align: right;\">\n",
              "      <th></th>\n",
              "      <th>Open</th>\n",
              "    </tr>\n",
              "    <tr>\n",
              "      <th>Date</th>\n",
              "      <th></th>\n",
              "    </tr>\n",
              "  </thead>\n",
              "  <tbody>\n",
              "    <tr>\n",
              "      <th>1997-06-30</th>\n",
              "      <td>18.570000</td>\n",
              "    </tr>\n",
              "    <tr>\n",
              "      <th>1997-07-07</th>\n",
              "      <td>19.180000</td>\n",
              "    </tr>\n",
              "    <tr>\n",
              "      <th>1997-07-14</th>\n",
              "      <td>20.270000</td>\n",
              "    </tr>\n",
              "    <tr>\n",
              "      <th>1997-07-21</th>\n",
              "      <td>20.100000</td>\n",
              "    </tr>\n",
              "    <tr>\n",
              "      <th>1997-07-28</th>\n",
              "      <td>18.890000</td>\n",
              "    </tr>\n",
              "    <tr>\n",
              "      <th>...</th>\n",
              "      <td>...</td>\n",
              "    </tr>\n",
              "    <tr>\n",
              "      <th>2020-11-30</th>\n",
              "      <td>1314.400024</td>\n",
              "    </tr>\n",
              "    <tr>\n",
              "      <th>2020-12-07</th>\n",
              "      <td>1330.000000</td>\n",
              "    </tr>\n",
              "    <tr>\n",
              "      <th>2020-12-14</th>\n",
              "      <td>1378.199951</td>\n",
              "    </tr>\n",
              "    <tr>\n",
              "      <th>2020-12-21</th>\n",
              "      <td>1401.699951</td>\n",
              "    </tr>\n",
              "    <tr>\n",
              "      <th>2020-12-28</th>\n",
              "      <td>1431.699951</td>\n",
              "    </tr>\n",
              "  </tbody>\n",
              "</table>\n",
              "<p>1218 rows × 1 columns</p>\n",
              "</div>\n",
              "    <div class=\"colab-df-buttons\">\n",
              "\n",
              "  <div class=\"colab-df-container\">\n",
              "    <button class=\"colab-df-convert\" onclick=\"convertToInteractive('df-3be929a2-51c2-4b5a-8d10-862b17dbbbff')\"\n",
              "            title=\"Convert this dataframe to an interactive table.\"\n",
              "            style=\"display:none;\">\n",
              "\n",
              "  <svg xmlns=\"http://www.w3.org/2000/svg\" height=\"24px\" viewBox=\"0 -960 960 960\">\n",
              "    <path d=\"M120-120v-720h720v720H120Zm60-500h600v-160H180v160Zm220 220h160v-160H400v160Zm0 220h160v-160H400v160ZM180-400h160v-160H180v160Zm440 0h160v-160H620v160ZM180-180h160v-160H180v160Zm440 0h160v-160H620v160Z\"/>\n",
              "  </svg>\n",
              "    </button>\n",
              "\n",
              "  <style>\n",
              "    .colab-df-container {\n",
              "      display:flex;\n",
              "      gap: 12px;\n",
              "    }\n",
              "\n",
              "    .colab-df-convert {\n",
              "      background-color: #E8F0FE;\n",
              "      border: none;\n",
              "      border-radius: 50%;\n",
              "      cursor: pointer;\n",
              "      display: none;\n",
              "      fill: #1967D2;\n",
              "      height: 32px;\n",
              "      padding: 0 0 0 0;\n",
              "      width: 32px;\n",
              "    }\n",
              "\n",
              "    .colab-df-convert:hover {\n",
              "      background-color: #E2EBFA;\n",
              "      box-shadow: 0px 1px 2px rgba(60, 64, 67, 0.3), 0px 1px 3px 1px rgba(60, 64, 67, 0.15);\n",
              "      fill: #174EA6;\n",
              "    }\n",
              "\n",
              "    .colab-df-buttons div {\n",
              "      margin-bottom: 4px;\n",
              "    }\n",
              "\n",
              "    [theme=dark] .colab-df-convert {\n",
              "      background-color: #3B4455;\n",
              "      fill: #D2E3FC;\n",
              "    }\n",
              "\n",
              "    [theme=dark] .colab-df-convert:hover {\n",
              "      background-color: #434B5C;\n",
              "      box-shadow: 0px 1px 3px 1px rgba(0, 0, 0, 0.15);\n",
              "      filter: drop-shadow(0px 1px 2px rgba(0, 0, 0, 0.3));\n",
              "      fill: #FFFFFF;\n",
              "    }\n",
              "  </style>\n",
              "\n",
              "    <script>\n",
              "      const buttonEl =\n",
              "        document.querySelector('#df-3be929a2-51c2-4b5a-8d10-862b17dbbbff button.colab-df-convert');\n",
              "      buttonEl.style.display =\n",
              "        google.colab.kernel.accessAllowed ? 'block' : 'none';\n",
              "\n",
              "      async function convertToInteractive(key) {\n",
              "        const element = document.querySelector('#df-3be929a2-51c2-4b5a-8d10-862b17dbbbff');\n",
              "        const dataTable =\n",
              "          await google.colab.kernel.invokeFunction('convertToInteractive',\n",
              "                                                    [key], {});\n",
              "        if (!dataTable) return;\n",
              "\n",
              "        const docLinkHtml = 'Like what you see? Visit the ' +\n",
              "          '<a target=\"_blank\" href=https://colab.research.google.com/notebooks/data_table.ipynb>data table notebook</a>'\n",
              "          + ' to learn more about interactive tables.';\n",
              "        element.innerHTML = '';\n",
              "        dataTable['output_type'] = 'display_data';\n",
              "        await google.colab.output.renderOutput(dataTable, element);\n",
              "        const docLink = document.createElement('div');\n",
              "        docLink.innerHTML = docLinkHtml;\n",
              "        element.appendChild(docLink);\n",
              "      }\n",
              "    </script>\n",
              "  </div>\n",
              "\n",
              "\n",
              "<div id=\"df-de503178-3ac6-438b-9cd9-7c78112f9f55\">\n",
              "  <button class=\"colab-df-quickchart\" onclick=\"quickchart('df-de503178-3ac6-438b-9cd9-7c78112f9f55')\"\n",
              "            title=\"Suggest charts\"\n",
              "            style=\"display:none;\">\n",
              "\n",
              "<svg xmlns=\"http://www.w3.org/2000/svg\" height=\"24px\"viewBox=\"0 0 24 24\"\n",
              "     width=\"24px\">\n",
              "    <g>\n",
              "        <path d=\"M19 3H5c-1.1 0-2 .9-2 2v14c0 1.1.9 2 2 2h14c1.1 0 2-.9 2-2V5c0-1.1-.9-2-2-2zM9 17H7v-7h2v7zm4 0h-2V7h2v10zm4 0h-2v-4h2v4z\"/>\n",
              "    </g>\n",
              "</svg>\n",
              "  </button>\n",
              "\n",
              "<style>\n",
              "  .colab-df-quickchart {\n",
              "      --bg-color: #E8F0FE;\n",
              "      --fill-color: #1967D2;\n",
              "      --hover-bg-color: #E2EBFA;\n",
              "      --hover-fill-color: #174EA6;\n",
              "      --disabled-fill-color: #AAA;\n",
              "      --disabled-bg-color: #DDD;\n",
              "  }\n",
              "\n",
              "  [theme=dark] .colab-df-quickchart {\n",
              "      --bg-color: #3B4455;\n",
              "      --fill-color: #D2E3FC;\n",
              "      --hover-bg-color: #434B5C;\n",
              "      --hover-fill-color: #FFFFFF;\n",
              "      --disabled-bg-color: #3B4455;\n",
              "      --disabled-fill-color: #666;\n",
              "  }\n",
              "\n",
              "  .colab-df-quickchart {\n",
              "    background-color: var(--bg-color);\n",
              "    border: none;\n",
              "    border-radius: 50%;\n",
              "    cursor: pointer;\n",
              "    display: none;\n",
              "    fill: var(--fill-color);\n",
              "    height: 32px;\n",
              "    padding: 0;\n",
              "    width: 32px;\n",
              "  }\n",
              "\n",
              "  .colab-df-quickchart:hover {\n",
              "    background-color: var(--hover-bg-color);\n",
              "    box-shadow: 0 1px 2px rgba(60, 64, 67, 0.3), 0 1px 3px 1px rgba(60, 64, 67, 0.15);\n",
              "    fill: var(--button-hover-fill-color);\n",
              "  }\n",
              "\n",
              "  .colab-df-quickchart-complete:disabled,\n",
              "  .colab-df-quickchart-complete:disabled:hover {\n",
              "    background-color: var(--disabled-bg-color);\n",
              "    fill: var(--disabled-fill-color);\n",
              "    box-shadow: none;\n",
              "  }\n",
              "\n",
              "  .colab-df-spinner {\n",
              "    border: 2px solid var(--fill-color);\n",
              "    border-color: transparent;\n",
              "    border-bottom-color: var(--fill-color);\n",
              "    animation:\n",
              "      spin 1s steps(1) infinite;\n",
              "  }\n",
              "\n",
              "  @keyframes spin {\n",
              "    0% {\n",
              "      border-color: transparent;\n",
              "      border-bottom-color: var(--fill-color);\n",
              "      border-left-color: var(--fill-color);\n",
              "    }\n",
              "    20% {\n",
              "      border-color: transparent;\n",
              "      border-left-color: var(--fill-color);\n",
              "      border-top-color: var(--fill-color);\n",
              "    }\n",
              "    30% {\n",
              "      border-color: transparent;\n",
              "      border-left-color: var(--fill-color);\n",
              "      border-top-color: var(--fill-color);\n",
              "      border-right-color: var(--fill-color);\n",
              "    }\n",
              "    40% {\n",
              "      border-color: transparent;\n",
              "      border-right-color: var(--fill-color);\n",
              "      border-top-color: var(--fill-color);\n",
              "    }\n",
              "    60% {\n",
              "      border-color: transparent;\n",
              "      border-right-color: var(--fill-color);\n",
              "    }\n",
              "    80% {\n",
              "      border-color: transparent;\n",
              "      border-right-color: var(--fill-color);\n",
              "      border-bottom-color: var(--fill-color);\n",
              "    }\n",
              "    90% {\n",
              "      border-color: transparent;\n",
              "      border-bottom-color: var(--fill-color);\n",
              "    }\n",
              "  }\n",
              "</style>\n",
              "\n",
              "  <script>\n",
              "    async function quickchart(key) {\n",
              "      const quickchartButtonEl =\n",
              "        document.querySelector('#' + key + ' button');\n",
              "      quickchartButtonEl.disabled = true;  // To prevent multiple clicks.\n",
              "      quickchartButtonEl.classList.add('colab-df-spinner');\n",
              "      try {\n",
              "        const charts = await google.colab.kernel.invokeFunction(\n",
              "            'suggestCharts', [key], {});\n",
              "      } catch (error) {\n",
              "        console.error('Error during call to suggestCharts:', error);\n",
              "      }\n",
              "      quickchartButtonEl.classList.remove('colab-df-spinner');\n",
              "      quickchartButtonEl.classList.add('colab-df-quickchart-complete');\n",
              "    }\n",
              "    (() => {\n",
              "      let quickchartButtonEl =\n",
              "        document.querySelector('#df-de503178-3ac6-438b-9cd9-7c78112f9f55 button');\n",
              "      quickchartButtonEl.style.display =\n",
              "        google.colab.kernel.accessAllowed ? 'block' : 'none';\n",
              "    })();\n",
              "  </script>\n",
              "</div>\n",
              "\n",
              "  <div id=\"id_324f593b-cc96-4337-8c74-d99d0d16e266\">\n",
              "    <style>\n",
              "      .colab-df-generate {\n",
              "        background-color: #E8F0FE;\n",
              "        border: none;\n",
              "        border-radius: 50%;\n",
              "        cursor: pointer;\n",
              "        display: none;\n",
              "        fill: #1967D2;\n",
              "        height: 32px;\n",
              "        padding: 0 0 0 0;\n",
              "        width: 32px;\n",
              "      }\n",
              "\n",
              "      .colab-df-generate:hover {\n",
              "        background-color: #E2EBFA;\n",
              "        box-shadow: 0px 1px 2px rgba(60, 64, 67, 0.3), 0px 1px 3px 1px rgba(60, 64, 67, 0.15);\n",
              "        fill: #174EA6;\n",
              "      }\n",
              "\n",
              "      [theme=dark] .colab-df-generate {\n",
              "        background-color: #3B4455;\n",
              "        fill: #D2E3FC;\n",
              "      }\n",
              "\n",
              "      [theme=dark] .colab-df-generate:hover {\n",
              "        background-color: #434B5C;\n",
              "        box-shadow: 0px 1px 3px 1px rgba(0, 0, 0, 0.15);\n",
              "        filter: drop-shadow(0px 1px 2px rgba(0, 0, 0, 0.3));\n",
              "        fill: #FFFFFF;\n",
              "      }\n",
              "    </style>\n",
              "    <button class=\"colab-df-generate\" onclick=\"generateWithVariable('open_data')\"\n",
              "            title=\"Generate code using this dataframe.\"\n",
              "            style=\"display:none;\">\n",
              "\n",
              "  <svg xmlns=\"http://www.w3.org/2000/svg\" height=\"24px\"viewBox=\"0 0 24 24\"\n",
              "       width=\"24px\">\n",
              "    <path d=\"M7,19H8.4L18.45,9,17,7.55,7,17.6ZM5,21V16.75L18.45,3.32a2,2,0,0,1,2.83,0l1.4,1.43a1.91,1.91,0,0,1,.58,1.4,1.91,1.91,0,0,1-.58,1.4L9.25,21ZM18.45,9,17,7.55Zm-12,3A5.31,5.31,0,0,0,4.9,8.1,5.31,5.31,0,0,0,1,6.5,5.31,5.31,0,0,0,4.9,4.9,5.31,5.31,0,0,0,6.5,1,5.31,5.31,0,0,0,8.1,4.9,5.31,5.31,0,0,0,12,6.5,5.46,5.46,0,0,0,6.5,12Z\"/>\n",
              "  </svg>\n",
              "    </button>\n",
              "    <script>\n",
              "      (() => {\n",
              "      const buttonEl =\n",
              "        document.querySelector('#id_324f593b-cc96-4337-8c74-d99d0d16e266 button.colab-df-generate');\n",
              "      buttonEl.style.display =\n",
              "        google.colab.kernel.accessAllowed ? 'block' : 'none';\n",
              "\n",
              "      buttonEl.onclick = () => {\n",
              "        google.colab.notebook.generateWithVariable('open_data');\n",
              "      }\n",
              "      })();\n",
              "    </script>\n",
              "  </div>\n",
              "\n",
              "    </div>\n",
              "  </div>\n"
            ]
          },
          "metadata": {},
          "execution_count": 93
        }
      ]
    },
    {
      "cell_type": "code",
      "source": [
        "persist_detector = PersistAD(c=3, side='negative')\n",
        "anomalies = persist_detector.fit_detect(open_data)\n",
        "plot(open_data, anomaly=anomalies, anomaly_color='red', anomaly_tag='marker')\n",
        "plt.title('Negative Persist Anomaly Detector')"
      ],
      "metadata": {
        "colab": {
          "base_uri": "https://localhost:8080/",
          "height": 401
        },
        "id": "53IGuzvhu10O",
        "outputId": "3f72ee77-160c-456d-ae6b-fbd8a6b833aa"
      },
      "execution_count": null,
      "outputs": [
        {
          "output_type": "execute_result",
          "data": {
            "text/plain": [
              "Text(0.5, 1.0, 'Negative Persist Anomaly Detector')"
            ]
          },
          "metadata": {},
          "execution_count": 96
        },
        {
          "output_type": "display_data",
          "data": {
            "text/plain": [
              "<Figure size 1600x400 with 1 Axes>"
            ],
            "image/png": "[encoded data removed]"
          },
          "metadata": {}
        }
      ]
    }
  ],
  "metadata": {
    "kernelspec": {
      "display_name": "Python 3",
      "language": "python",
      "name": "python3"
    },
    "language_info": {
      "codemirror_mode": {
        "name": "ipython",
        "version": 3
      },
      "file_extension": ".py",
      "mimetype": "text/x-python",
      "name": "python",
      "nbconvert_exporter": "python",
      "pygments_lexer": "ipython3",
      "version": "3.7.9"
    },
    "colab": {
      "provenance": []
    }
  },
  "nbformat": 4,
  "nbformat_minor": 0
}